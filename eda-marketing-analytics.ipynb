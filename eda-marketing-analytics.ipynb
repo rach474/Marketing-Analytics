{
 "cells": [
  {
   "cell_type": "markdown",
   "id": "4a5813ad",
   "metadata": {
    "_cell_guid": "b1076dfc-b9ad-4769-8c92-a6c4dae69d19",
    "_uuid": "8f2839f25d086af736a60e9eeb907d3b93b6e0e5",
    "execution": {
     "iopub.execute_input": "2022-08-05T22:35:55.937466Z",
     "iopub.status.busy": "2022-08-05T22:35:55.937028Z",
     "iopub.status.idle": "2022-08-05T22:35:55.943625Z",
     "shell.execute_reply": "2022-08-05T22:35:55.942427Z",
     "shell.execute_reply.started": "2022-08-05T22:35:55.937425Z"
    },
    "papermill": {
     "duration": 0.019152,
     "end_time": "2022-08-05T23:58:09.419863",
     "exception": false,
     "start_time": "2022-08-05T23:58:09.400711",
     "status": "completed"
    },
    "tags": []
   },
   "source": [
    "## Exploratory Data Analysis on Marketing Analytics"
   ]
  },
  {
   "cell_type": "markdown",
   "id": "32f69e24",
   "metadata": {
    "papermill": {
     "duration": 0.019515,
     "end_time": "2022-08-05T23:58:09.457375",
     "exception": false,
     "start_time": "2022-08-05T23:58:09.437860",
     "status": "completed"
    },
    "tags": []
   },
   "source": [
    "## Defining Columns"
   ]
  },
  {
   "cell_type": "markdown",
   "id": "81bee3f5",
   "metadata": {
    "execution": {
     "iopub.execute_input": "2022-08-05T23:12:58.502134Z",
     "iopub.status.busy": "2022-08-05T23:12:58.501733Z",
     "iopub.status.idle": "2022-08-05T23:12:58.514524Z",
     "shell.execute_reply": "2022-08-05T23:12:58.512598Z",
     "shell.execute_reply.started": "2022-08-05T23:12:58.502104Z"
    },
    "papermill": {
     "duration": 0.017264,
     "end_time": "2022-08-05T23:58:09.492053",
     "exception": false,
     "start_time": "2022-08-05T23:58:09.474789",
     "status": "completed"
    },
    "tags": []
   },
   "source": [
    "1. Education: Customer's education level\n",
    "2. Marital_Status: Customer's marital status\n",
    "3. Income: Customer's yearly household income\n",
    "4. Kidhome: Number of children in customer's household\n",
    "5. Teenhome: Number of teenagers in customer's household\n",
    "6. Customer_Days: Date of customer's enrollment with the company\n",
    "7. Recency: Number of days since customer's last purchase\n",
    "8. MntWines: Amount spent on wine in the last 2 years\n",
    "(Mnt = amount spent on the product in the last 2 years)\n",
    "9. MntRegularProds: Amount spent on all products except gold.\n",
    "10. NumDealsPurchases: Number of purchases made with a discount\n",
    "Each Num column represents the number of purchases.\n",
    "11. AcceptedCmp3: 1 if customer accepted the offer in the 3rd campaign, 0 otherwise\n",
    "12. AcceptedCmp4: 1 if customer accepted the offer in the 4th campaign, 0 otherwise \n",
    "All Accepted columns represent the accepted offer wrt to the campaign no.\n",
    "13. Response: 1 if customer accepted the offer in the last campaign, 0 otherwise\n",
    "14. Complain: 1 if customer complained in the last 2 years, 0 otherwise"
   ]
  },
  {
   "cell_type": "code",
   "execution_count": 1,
   "id": "a0b6a0e6",
   "metadata": {
    "execution": {
     "iopub.execute_input": "2022-08-05T23:58:09.529385Z",
     "iopub.status.busy": "2022-08-05T23:58:09.528639Z",
     "iopub.status.idle": "2022-08-05T23:58:10.803413Z",
     "shell.execute_reply": "2022-08-05T23:58:10.802074Z"
    },
    "papermill": {
     "duration": 1.297334,
     "end_time": "2022-08-05T23:58:10.806601",
     "exception": false,
     "start_time": "2022-08-05T23:58:09.509267",
     "status": "completed"
    },
    "tags": []
   },
   "outputs": [],
   "source": [
    "# Importing the libraries\n",
    "import pandas as pd\n",
    "import numpy as np\n",
    "import matplotlib.pyplot as plt\n",
    "import seaborn as sns"
   ]
  },
  {
   "cell_type": "code",
   "execution_count": 2,
   "id": "3aea4952",
   "metadata": {
    "execution": {
     "iopub.execute_input": "2022-08-05T23:58:10.844036Z",
     "iopub.status.busy": "2022-08-05T23:58:10.843010Z",
     "iopub.status.idle": "2022-08-05T23:58:10.908538Z",
     "shell.execute_reply": "2022-08-05T23:58:10.907185Z"
    },
    "papermill": {
     "duration": 0.08685,
     "end_time": "2022-08-05T23:58:10.911326",
     "exception": false,
     "start_time": "2022-08-05T23:58:10.824476",
     "status": "completed"
    },
    "tags": []
   },
   "outputs": [
    {
     "data": {
      "text/html": [
       "<div>\n",
       "<style scoped>\n",
       "    .dataframe tbody tr th:only-of-type {\n",
       "        vertical-align: middle;\n",
       "    }\n",
       "\n",
       "    .dataframe tbody tr th {\n",
       "        vertical-align: top;\n",
       "    }\n",
       "\n",
       "    .dataframe thead th {\n",
       "        text-align: right;\n",
       "    }\n",
       "</style>\n",
       "<table border=\"1\" class=\"dataframe\">\n",
       "  <thead>\n",
       "    <tr style=\"text-align: right;\">\n",
       "      <th></th>\n",
       "      <th>Income</th>\n",
       "      <th>Kidhome</th>\n",
       "      <th>Teenhome</th>\n",
       "      <th>Recency</th>\n",
       "      <th>MntWines</th>\n",
       "      <th>MntFruits</th>\n",
       "      <th>MntMeatProducts</th>\n",
       "      <th>MntFishProducts</th>\n",
       "      <th>MntSweetProducts</th>\n",
       "      <th>MntGoldProds</th>\n",
       "      <th>...</th>\n",
       "      <th>marital_Together</th>\n",
       "      <th>marital_Widow</th>\n",
       "      <th>education_2n Cycle</th>\n",
       "      <th>education_Basic</th>\n",
       "      <th>education_Graduation</th>\n",
       "      <th>education_Master</th>\n",
       "      <th>education_PhD</th>\n",
       "      <th>MntTotal</th>\n",
       "      <th>MntRegularProds</th>\n",
       "      <th>AcceptedCmpOverall</th>\n",
       "    </tr>\n",
       "  </thead>\n",
       "  <tbody>\n",
       "    <tr>\n",
       "      <th>0</th>\n",
       "      <td>58138.0</td>\n",
       "      <td>0</td>\n",
       "      <td>0</td>\n",
       "      <td>58</td>\n",
       "      <td>635</td>\n",
       "      <td>88</td>\n",
       "      <td>546</td>\n",
       "      <td>172</td>\n",
       "      <td>88</td>\n",
       "      <td>88</td>\n",
       "      <td>...</td>\n",
       "      <td>0</td>\n",
       "      <td>0</td>\n",
       "      <td>0</td>\n",
       "      <td>0</td>\n",
       "      <td>1</td>\n",
       "      <td>0</td>\n",
       "      <td>0</td>\n",
       "      <td>1529</td>\n",
       "      <td>1441</td>\n",
       "      <td>0</td>\n",
       "    </tr>\n",
       "    <tr>\n",
       "      <th>1</th>\n",
       "      <td>46344.0</td>\n",
       "      <td>1</td>\n",
       "      <td>1</td>\n",
       "      <td>38</td>\n",
       "      <td>11</td>\n",
       "      <td>1</td>\n",
       "      <td>6</td>\n",
       "      <td>2</td>\n",
       "      <td>1</td>\n",
       "      <td>6</td>\n",
       "      <td>...</td>\n",
       "      <td>0</td>\n",
       "      <td>0</td>\n",
       "      <td>0</td>\n",
       "      <td>0</td>\n",
       "      <td>1</td>\n",
       "      <td>0</td>\n",
       "      <td>0</td>\n",
       "      <td>21</td>\n",
       "      <td>15</td>\n",
       "      <td>0</td>\n",
       "    </tr>\n",
       "    <tr>\n",
       "      <th>2</th>\n",
       "      <td>71613.0</td>\n",
       "      <td>0</td>\n",
       "      <td>0</td>\n",
       "      <td>26</td>\n",
       "      <td>426</td>\n",
       "      <td>49</td>\n",
       "      <td>127</td>\n",
       "      <td>111</td>\n",
       "      <td>21</td>\n",
       "      <td>42</td>\n",
       "      <td>...</td>\n",
       "      <td>1</td>\n",
       "      <td>0</td>\n",
       "      <td>0</td>\n",
       "      <td>0</td>\n",
       "      <td>1</td>\n",
       "      <td>0</td>\n",
       "      <td>0</td>\n",
       "      <td>734</td>\n",
       "      <td>692</td>\n",
       "      <td>0</td>\n",
       "    </tr>\n",
       "    <tr>\n",
       "      <th>3</th>\n",
       "      <td>26646.0</td>\n",
       "      <td>1</td>\n",
       "      <td>0</td>\n",
       "      <td>26</td>\n",
       "      <td>11</td>\n",
       "      <td>4</td>\n",
       "      <td>20</td>\n",
       "      <td>10</td>\n",
       "      <td>3</td>\n",
       "      <td>5</td>\n",
       "      <td>...</td>\n",
       "      <td>1</td>\n",
       "      <td>0</td>\n",
       "      <td>0</td>\n",
       "      <td>0</td>\n",
       "      <td>1</td>\n",
       "      <td>0</td>\n",
       "      <td>0</td>\n",
       "      <td>48</td>\n",
       "      <td>43</td>\n",
       "      <td>0</td>\n",
       "    </tr>\n",
       "    <tr>\n",
       "      <th>4</th>\n",
       "      <td>58293.0</td>\n",
       "      <td>1</td>\n",
       "      <td>0</td>\n",
       "      <td>94</td>\n",
       "      <td>173</td>\n",
       "      <td>43</td>\n",
       "      <td>118</td>\n",
       "      <td>46</td>\n",
       "      <td>27</td>\n",
       "      <td>15</td>\n",
       "      <td>...</td>\n",
       "      <td>0</td>\n",
       "      <td>0</td>\n",
       "      <td>0</td>\n",
       "      <td>0</td>\n",
       "      <td>0</td>\n",
       "      <td>0</td>\n",
       "      <td>1</td>\n",
       "      <td>407</td>\n",
       "      <td>392</td>\n",
       "      <td>0</td>\n",
       "    </tr>\n",
       "  </tbody>\n",
       "</table>\n",
       "<p>5 rows × 39 columns</p>\n",
       "</div>"
      ],
      "text/plain": [
       "    Income  Kidhome  Teenhome  Recency  MntWines  MntFruits  MntMeatProducts  \\\n",
       "0  58138.0        0         0       58       635         88              546   \n",
       "1  46344.0        1         1       38        11          1                6   \n",
       "2  71613.0        0         0       26       426         49              127   \n",
       "3  26646.0        1         0       26        11          4               20   \n",
       "4  58293.0        1         0       94       173         43              118   \n",
       "\n",
       "   MntFishProducts  MntSweetProducts  MntGoldProds  ...  marital_Together  \\\n",
       "0              172                88            88  ...                 0   \n",
       "1                2                 1             6  ...                 0   \n",
       "2              111                21            42  ...                 1   \n",
       "3               10                 3             5  ...                 1   \n",
       "4               46                27            15  ...                 0   \n",
       "\n",
       "   marital_Widow  education_2n Cycle  education_Basic  education_Graduation  \\\n",
       "0              0                   0                0                     1   \n",
       "1              0                   0                0                     1   \n",
       "2              0                   0                0                     1   \n",
       "3              0                   0                0                     1   \n",
       "4              0                   0                0                     0   \n",
       "\n",
       "   education_Master  education_PhD  MntTotal  MntRegularProds  \\\n",
       "0                 0              0      1529             1441   \n",
       "1                 0              0        21               15   \n",
       "2                 0              0       734              692   \n",
       "3                 0              0        48               43   \n",
       "4                 0              1       407              392   \n",
       "\n",
       "   AcceptedCmpOverall  \n",
       "0                   0  \n",
       "1                   0  \n",
       "2                   0  \n",
       "3                   0  \n",
       "4                   0  \n",
       "\n",
       "[5 rows x 39 columns]"
      ]
     },
     "execution_count": 2,
     "metadata": {},
     "output_type": "execute_result"
    }
   ],
   "source": [
    "# Importing the file\n",
    "data=pd.read_csv(\"../input/marketing-data/ifood_df.csv\")\n",
    "\n",
    "#Basic inspection\n",
    "#Viewing top 5 rows of the imported dataframe\n",
    "\n",
    "data.head()"
   ]
  },
  {
   "cell_type": "code",
   "execution_count": 3,
   "id": "cd36589b",
   "metadata": {
    "execution": {
     "iopub.execute_input": "2022-08-05T23:58:10.948349Z",
     "iopub.status.busy": "2022-08-05T23:58:10.947912Z",
     "iopub.status.idle": "2022-08-05T23:58:10.955410Z",
     "shell.execute_reply": "2022-08-05T23:58:10.954059Z"
    },
    "papermill": {
     "duration": 0.028746,
     "end_time": "2022-08-05T23:58:10.957704",
     "exception": false,
     "start_time": "2022-08-05T23:58:10.928958",
     "status": "completed"
    },
    "tags": []
   },
   "outputs": [
    {
     "data": {
      "text/plain": [
       "(2205, 39)"
      ]
     },
     "execution_count": 3,
     "metadata": {},
     "output_type": "execute_result"
    }
   ],
   "source": [
    "#Finding the number of rows and columns in this dataset\n",
    "\n",
    "data.shape"
   ]
  },
  {
   "cell_type": "code",
   "execution_count": 4,
   "id": "e0e14885",
   "metadata": {
    "execution": {
     "iopub.execute_input": "2022-08-05T23:58:10.994350Z",
     "iopub.status.busy": "2022-08-05T23:58:10.993897Z",
     "iopub.status.idle": "2022-08-05T23:58:11.001908Z",
     "shell.execute_reply": "2022-08-05T23:58:11.001015Z"
    },
    "papermill": {
     "duration": 0.029084,
     "end_time": "2022-08-05T23:58:11.004135",
     "exception": false,
     "start_time": "2022-08-05T23:58:10.975051",
     "status": "completed"
    },
    "tags": []
   },
   "outputs": [
    {
     "data": {
      "text/plain": [
       "Index(['Income', 'Kidhome', 'Teenhome', 'Recency', 'MntWines', 'MntFruits',\n",
       "       'MntMeatProducts', 'MntFishProducts', 'MntSweetProducts',\n",
       "       'MntGoldProds', 'NumDealsPurchases', 'NumWebPurchases',\n",
       "       'NumCatalogPurchases', 'NumStorePurchases', 'NumWebVisitsMonth',\n",
       "       'AcceptedCmp3', 'AcceptedCmp4', 'AcceptedCmp5', 'AcceptedCmp1',\n",
       "       'AcceptedCmp2', 'Complain', 'Z_CostContact', 'Z_Revenue', 'Response',\n",
       "       'Age', 'Customer_Days', 'marital_Divorced', 'marital_Married',\n",
       "       'marital_Single', 'marital_Together', 'marital_Widow',\n",
       "       'education_2n Cycle', 'education_Basic', 'education_Graduation',\n",
       "       'education_Master', 'education_PhD', 'MntTotal', 'MntRegularProds',\n",
       "       'AcceptedCmpOverall'],\n",
       "      dtype='object')"
      ]
     },
     "execution_count": 4,
     "metadata": {},
     "output_type": "execute_result"
    }
   ],
   "source": [
    "#Columns of this dataset are\n",
    "\n",
    "data.columns"
   ]
  },
  {
   "cell_type": "code",
   "execution_count": 5,
   "id": "1f430950",
   "metadata": {
    "execution": {
     "iopub.execute_input": "2022-08-05T23:58:11.042654Z",
     "iopub.status.busy": "2022-08-05T23:58:11.042265Z",
     "iopub.status.idle": "2022-08-05T23:58:11.072811Z",
     "shell.execute_reply": "2022-08-05T23:58:11.068612Z"
    },
    "papermill": {
     "duration": 0.053627,
     "end_time": "2022-08-05T23:58:11.075559",
     "exception": false,
     "start_time": "2022-08-05T23:58:11.021932",
     "status": "completed"
    },
    "tags": []
   },
   "outputs": [
    {
     "name": "stdout",
     "output_type": "stream",
     "text": [
      "<class 'pandas.core.frame.DataFrame'>\n",
      "RangeIndex: 2205 entries, 0 to 2204\n",
      "Data columns (total 39 columns):\n",
      " #   Column                Non-Null Count  Dtype  \n",
      "---  ------                --------------  -----  \n",
      " 0   Income                2205 non-null   float64\n",
      " 1   Kidhome               2205 non-null   int64  \n",
      " 2   Teenhome              2205 non-null   int64  \n",
      " 3   Recency               2205 non-null   int64  \n",
      " 4   MntWines              2205 non-null   int64  \n",
      " 5   MntFruits             2205 non-null   int64  \n",
      " 6   MntMeatProducts       2205 non-null   int64  \n",
      " 7   MntFishProducts       2205 non-null   int64  \n",
      " 8   MntSweetProducts      2205 non-null   int64  \n",
      " 9   MntGoldProds          2205 non-null   int64  \n",
      " 10  NumDealsPurchases     2205 non-null   int64  \n",
      " 11  NumWebPurchases       2205 non-null   int64  \n",
      " 12  NumCatalogPurchases   2205 non-null   int64  \n",
      " 13  NumStorePurchases     2205 non-null   int64  \n",
      " 14  NumWebVisitsMonth     2205 non-null   int64  \n",
      " 15  AcceptedCmp3          2205 non-null   int64  \n",
      " 16  AcceptedCmp4          2205 non-null   int64  \n",
      " 17  AcceptedCmp5          2205 non-null   int64  \n",
      " 18  AcceptedCmp1          2205 non-null   int64  \n",
      " 19  AcceptedCmp2          2205 non-null   int64  \n",
      " 20  Complain              2205 non-null   int64  \n",
      " 21  Z_CostContact         2205 non-null   int64  \n",
      " 22  Z_Revenue             2205 non-null   int64  \n",
      " 23  Response              2205 non-null   int64  \n",
      " 24  Age                   2205 non-null   int64  \n",
      " 25  Customer_Days         2205 non-null   int64  \n",
      " 26  marital_Divorced      2205 non-null   int64  \n",
      " 27  marital_Married       2205 non-null   int64  \n",
      " 28  marital_Single        2205 non-null   int64  \n",
      " 29  marital_Together      2205 non-null   int64  \n",
      " 30  marital_Widow         2205 non-null   int64  \n",
      " 31  education_2n Cycle    2205 non-null   int64  \n",
      " 32  education_Basic       2205 non-null   int64  \n",
      " 33  education_Graduation  2205 non-null   int64  \n",
      " 34  education_Master      2205 non-null   int64  \n",
      " 35  education_PhD         2205 non-null   int64  \n",
      " 36  MntTotal              2205 non-null   int64  \n",
      " 37  MntRegularProds       2205 non-null   int64  \n",
      " 38  AcceptedCmpOverall    2205 non-null   int64  \n",
      "dtypes: float64(1), int64(38)\n",
      "memory usage: 672.0 KB\n"
     ]
    }
   ],
   "source": [
    "# Finding the null values\n",
    "data.info()"
   ]
  },
  {
   "cell_type": "markdown",
   "id": "5d0453d8",
   "metadata": {
    "execution": {
     "iopub.execute_input": "2022-08-03T20:13:49.597742Z",
     "iopub.status.busy": "2022-08-03T20:13:49.597308Z",
     "iopub.status.idle": "2022-08-03T20:13:49.603068Z",
     "shell.execute_reply": "2022-08-03T20:13:49.601685Z",
     "shell.execute_reply.started": "2022-08-03T20:13:49.597709Z"
    },
    "papermill": {
     "duration": 0.019011,
     "end_time": "2022-08-05T23:58:11.113221",
     "exception": false,
     "start_time": "2022-08-05T23:58:11.094210",
     "status": "completed"
    },
    "tags": []
   },
   "source": [
    "### No null values found in the dataset.Therefore, the dataset has no missing values."
   ]
  },
  {
   "cell_type": "code",
   "execution_count": 6,
   "id": "31cde413",
   "metadata": {
    "execution": {
     "iopub.execute_input": "2022-08-05T23:58:11.153644Z",
     "iopub.status.busy": "2022-08-05T23:58:11.153167Z",
     "iopub.status.idle": "2022-08-05T23:58:11.162734Z",
     "shell.execute_reply": "2022-08-05T23:58:11.161201Z"
    },
    "papermill": {
     "duration": 0.033336,
     "end_time": "2022-08-05T23:58:11.165746",
     "exception": false,
     "start_time": "2022-08-05T23:58:11.132410",
     "status": "completed"
    },
    "tags": []
   },
   "outputs": [
    {
     "data": {
      "text/plain": [
       "Index(['Income', 'Kidhome', 'Teenhome', 'Recency', 'MntWines', 'MntFruits',\n",
       "       'MntMeatProducts', 'MntFishProducts', 'MntSweetProducts',\n",
       "       'MntGoldProds', 'NumDealsPurchases', 'NumWebPurchases',\n",
       "       'NumCatalogPurchases', 'NumStorePurchases', 'NumWebVisitsMonth',\n",
       "       'AcceptedCmp3', 'AcceptedCmp4', 'AcceptedCmp5', 'AcceptedCmp1',\n",
       "       'AcceptedCmp2', 'Complain', 'Z_CostContact', 'Z_Revenue', 'Response',\n",
       "       'Age', 'Customer_Days', 'marital_Divorced', 'marital_Married',\n",
       "       'marital_Single', 'marital_Together', 'marital_Widow',\n",
       "       'education_2n Cycle', 'education_Basic', 'education_Graduation',\n",
       "       'education_Master', 'education_PhD', 'MntTotal', 'MntRegularProds',\n",
       "       'AcceptedCmpOverall'],\n",
       "      dtype='object')"
      ]
     },
     "execution_count": 6,
     "metadata": {},
     "output_type": "execute_result"
    }
   ],
   "source": [
    "data.columns"
   ]
  },
  {
   "cell_type": "code",
   "execution_count": 7,
   "id": "8a9443d3",
   "metadata": {
    "execution": {
     "iopub.execute_input": "2022-08-05T23:58:11.206121Z",
     "iopub.status.busy": "2022-08-05T23:58:11.205629Z",
     "iopub.status.idle": "2022-08-05T23:58:11.238805Z",
     "shell.execute_reply": "2022-08-05T23:58:11.237604Z"
    },
    "papermill": {
     "duration": 0.056905,
     "end_time": "2022-08-05T23:58:11.241746",
     "exception": false,
     "start_time": "2022-08-05T23:58:11.184841",
     "status": "completed"
    },
    "tags": []
   },
   "outputs": [],
   "source": [
    "# Adding a new column named marital_status that will give the information if the person is married/together or not.\n",
    "# Merging too many columns to a single column\n",
    "marital=[]\n",
    "\n",
    "for ind in data.index:\n",
    "    if data['marital_Married'][ind]==1 or data['marital_Together'][ind]==1:\n",
    "        marital.append(1)\n",
    "    else:\n",
    "        marital.append(0)\n",
    "        \n",
    "data['Marital']=marital"
   ]
  },
  {
   "cell_type": "code",
   "execution_count": 8,
   "id": "503f30ba",
   "metadata": {
    "execution": {
     "iopub.execute_input": "2022-08-05T23:58:11.281215Z",
     "iopub.status.busy": "2022-08-05T23:58:11.280763Z",
     "iopub.status.idle": "2022-08-05T23:58:11.343521Z",
     "shell.execute_reply": "2022-08-05T23:58:11.341965Z"
    },
    "papermill": {
     "duration": 0.08627,
     "end_time": "2022-08-05T23:58:11.346639",
     "exception": false,
     "start_time": "2022-08-05T23:58:11.260369",
     "status": "completed"
    },
    "tags": []
   },
   "outputs": [],
   "source": [
    "# Adding a new column named education\n",
    "# Merging too many columns to a single column\n",
    "education=[]\n",
    "\n",
    "for ind in data.index:\n",
    "    if data['education_2n Cycle'][ind]==1:\n",
    "        education.append('2n Cycle')\n",
    "    elif data['education_Basic'][ind]==1:\n",
    "        education.append('Basic')\n",
    "    elif data['education_Graduation'][ind]==1:\n",
    "        education.append('Graduation')\n",
    "    elif data['education_Master'][ind]==1:\n",
    "        education.append('Master')\n",
    "    elif data['education_PhD'][ind]==1:\n",
    "        education.append('PhD')\n",
    "    \n",
    "        \n",
    "data['Education']=education"
   ]
  },
  {
   "cell_type": "code",
   "execution_count": 9,
   "id": "c42fe82d",
   "metadata": {
    "execution": {
     "iopub.execute_input": "2022-08-05T23:58:11.385868Z",
     "iopub.status.busy": "2022-08-05T23:58:11.384958Z",
     "iopub.status.idle": "2022-08-05T23:58:11.412297Z",
     "shell.execute_reply": "2022-08-05T23:58:11.411312Z"
    },
    "papermill": {
     "duration": 0.049248,
     "end_time": "2022-08-05T23:58:11.414557",
     "exception": false,
     "start_time": "2022-08-05T23:58:11.365309",
     "status": "completed"
    },
    "tags": []
   },
   "outputs": [
    {
     "data": {
      "text/html": [
       "<div>\n",
       "<style scoped>\n",
       "    .dataframe tbody tr th:only-of-type {\n",
       "        vertical-align: middle;\n",
       "    }\n",
       "\n",
       "    .dataframe tbody tr th {\n",
       "        vertical-align: top;\n",
       "    }\n",
       "\n",
       "    .dataframe thead th {\n",
       "        text-align: right;\n",
       "    }\n",
       "</style>\n",
       "<table border=\"1\" class=\"dataframe\">\n",
       "  <thead>\n",
       "    <tr style=\"text-align: right;\">\n",
       "      <th></th>\n",
       "      <th>Income</th>\n",
       "      <th>Kidhome</th>\n",
       "      <th>Teenhome</th>\n",
       "      <th>Recency</th>\n",
       "      <th>MntWines</th>\n",
       "      <th>MntFruits</th>\n",
       "      <th>MntMeatProducts</th>\n",
       "      <th>MntFishProducts</th>\n",
       "      <th>MntSweetProducts</th>\n",
       "      <th>MntGoldProds</th>\n",
       "      <th>...</th>\n",
       "      <th>education_2n Cycle</th>\n",
       "      <th>education_Basic</th>\n",
       "      <th>education_Graduation</th>\n",
       "      <th>education_Master</th>\n",
       "      <th>education_PhD</th>\n",
       "      <th>MntTotal</th>\n",
       "      <th>MntRegularProds</th>\n",
       "      <th>AcceptedCmpOverall</th>\n",
       "      <th>Marital</th>\n",
       "      <th>Education</th>\n",
       "    </tr>\n",
       "  </thead>\n",
       "  <tbody>\n",
       "    <tr>\n",
       "      <th>0</th>\n",
       "      <td>58138.0</td>\n",
       "      <td>0</td>\n",
       "      <td>0</td>\n",
       "      <td>58</td>\n",
       "      <td>635</td>\n",
       "      <td>88</td>\n",
       "      <td>546</td>\n",
       "      <td>172</td>\n",
       "      <td>88</td>\n",
       "      <td>88</td>\n",
       "      <td>...</td>\n",
       "      <td>0</td>\n",
       "      <td>0</td>\n",
       "      <td>1</td>\n",
       "      <td>0</td>\n",
       "      <td>0</td>\n",
       "      <td>1529</td>\n",
       "      <td>1441</td>\n",
       "      <td>0</td>\n",
       "      <td>0</td>\n",
       "      <td>Graduation</td>\n",
       "    </tr>\n",
       "    <tr>\n",
       "      <th>1</th>\n",
       "      <td>46344.0</td>\n",
       "      <td>1</td>\n",
       "      <td>1</td>\n",
       "      <td>38</td>\n",
       "      <td>11</td>\n",
       "      <td>1</td>\n",
       "      <td>6</td>\n",
       "      <td>2</td>\n",
       "      <td>1</td>\n",
       "      <td>6</td>\n",
       "      <td>...</td>\n",
       "      <td>0</td>\n",
       "      <td>0</td>\n",
       "      <td>1</td>\n",
       "      <td>0</td>\n",
       "      <td>0</td>\n",
       "      <td>21</td>\n",
       "      <td>15</td>\n",
       "      <td>0</td>\n",
       "      <td>0</td>\n",
       "      <td>Graduation</td>\n",
       "    </tr>\n",
       "    <tr>\n",
       "      <th>2</th>\n",
       "      <td>71613.0</td>\n",
       "      <td>0</td>\n",
       "      <td>0</td>\n",
       "      <td>26</td>\n",
       "      <td>426</td>\n",
       "      <td>49</td>\n",
       "      <td>127</td>\n",
       "      <td>111</td>\n",
       "      <td>21</td>\n",
       "      <td>42</td>\n",
       "      <td>...</td>\n",
       "      <td>0</td>\n",
       "      <td>0</td>\n",
       "      <td>1</td>\n",
       "      <td>0</td>\n",
       "      <td>0</td>\n",
       "      <td>734</td>\n",
       "      <td>692</td>\n",
       "      <td>0</td>\n",
       "      <td>1</td>\n",
       "      <td>Graduation</td>\n",
       "    </tr>\n",
       "    <tr>\n",
       "      <th>3</th>\n",
       "      <td>26646.0</td>\n",
       "      <td>1</td>\n",
       "      <td>0</td>\n",
       "      <td>26</td>\n",
       "      <td>11</td>\n",
       "      <td>4</td>\n",
       "      <td>20</td>\n",
       "      <td>10</td>\n",
       "      <td>3</td>\n",
       "      <td>5</td>\n",
       "      <td>...</td>\n",
       "      <td>0</td>\n",
       "      <td>0</td>\n",
       "      <td>1</td>\n",
       "      <td>0</td>\n",
       "      <td>0</td>\n",
       "      <td>48</td>\n",
       "      <td>43</td>\n",
       "      <td>0</td>\n",
       "      <td>1</td>\n",
       "      <td>Graduation</td>\n",
       "    </tr>\n",
       "    <tr>\n",
       "      <th>4</th>\n",
       "      <td>58293.0</td>\n",
       "      <td>1</td>\n",
       "      <td>0</td>\n",
       "      <td>94</td>\n",
       "      <td>173</td>\n",
       "      <td>43</td>\n",
       "      <td>118</td>\n",
       "      <td>46</td>\n",
       "      <td>27</td>\n",
       "      <td>15</td>\n",
       "      <td>...</td>\n",
       "      <td>0</td>\n",
       "      <td>0</td>\n",
       "      <td>0</td>\n",
       "      <td>0</td>\n",
       "      <td>1</td>\n",
       "      <td>407</td>\n",
       "      <td>392</td>\n",
       "      <td>0</td>\n",
       "      <td>1</td>\n",
       "      <td>PhD</td>\n",
       "    </tr>\n",
       "  </tbody>\n",
       "</table>\n",
       "<p>5 rows × 41 columns</p>\n",
       "</div>"
      ],
      "text/plain": [
       "    Income  Kidhome  Teenhome  Recency  MntWines  MntFruits  MntMeatProducts  \\\n",
       "0  58138.0        0         0       58       635         88              546   \n",
       "1  46344.0        1         1       38        11          1                6   \n",
       "2  71613.0        0         0       26       426         49              127   \n",
       "3  26646.0        1         0       26        11          4               20   \n",
       "4  58293.0        1         0       94       173         43              118   \n",
       "\n",
       "   MntFishProducts  MntSweetProducts  MntGoldProds  ...  education_2n Cycle  \\\n",
       "0              172                88            88  ...                   0   \n",
       "1                2                 1             6  ...                   0   \n",
       "2              111                21            42  ...                   0   \n",
       "3               10                 3             5  ...                   0   \n",
       "4               46                27            15  ...                   0   \n",
       "\n",
       "   education_Basic  education_Graduation  education_Master  education_PhD  \\\n",
       "0                0                     1                 0              0   \n",
       "1                0                     1                 0              0   \n",
       "2                0                     1                 0              0   \n",
       "3                0                     1                 0              0   \n",
       "4                0                     0                 0              1   \n",
       "\n",
       "   MntTotal  MntRegularProds  AcceptedCmpOverall  Marital   Education  \n",
       "0      1529             1441                   0        0  Graduation  \n",
       "1        21               15                   0        0  Graduation  \n",
       "2       734              692                   0        1  Graduation  \n",
       "3        48               43                   0        1  Graduation  \n",
       "4       407              392                   0        1         PhD  \n",
       "\n",
       "[5 rows x 41 columns]"
      ]
     },
     "execution_count": 9,
     "metadata": {},
     "output_type": "execute_result"
    }
   ],
   "source": [
    "# Converting no. of days to years\n",
    "def handle_customerDays(value):\n",
    "    return int(value/365)\n",
    "\n",
    "data['Customer_Days']=data['Customer_Days'].apply(handle_customerDays)\n",
    "\n",
    "# Renaming the column\n",
    "data.rename(columns={'Customer_Days':'Customer_Asso_Years'},inplace=True)\n",
    "data.head()"
   ]
  },
  {
   "cell_type": "code",
   "execution_count": 10,
   "id": "c69ca417",
   "metadata": {
    "execution": {
     "iopub.execute_input": "2022-08-05T23:58:11.455913Z",
     "iopub.status.busy": "2022-08-05T23:58:11.455198Z",
     "iopub.status.idle": "2022-08-05T23:58:11.478544Z",
     "shell.execute_reply": "2022-08-05T23:58:11.477056Z"
    },
    "papermill": {
     "duration": 0.047757,
     "end_time": "2022-08-05T23:58:11.481492",
     "exception": false,
     "start_time": "2022-08-05T23:58:11.433735",
     "status": "completed"
    },
    "tags": []
   },
   "outputs": [
    {
     "data": {
      "text/html": [
       "<div>\n",
       "<style scoped>\n",
       "    .dataframe tbody tr th:only-of-type {\n",
       "        vertical-align: middle;\n",
       "    }\n",
       "\n",
       "    .dataframe tbody tr th {\n",
       "        vertical-align: top;\n",
       "    }\n",
       "\n",
       "    .dataframe thead th {\n",
       "        text-align: right;\n",
       "    }\n",
       "</style>\n",
       "<table border=\"1\" class=\"dataframe\">\n",
       "  <thead>\n",
       "    <tr style=\"text-align: right;\">\n",
       "      <th></th>\n",
       "      <th>Income</th>\n",
       "      <th>Kidhome</th>\n",
       "      <th>Teenhome</th>\n",
       "      <th>Recency</th>\n",
       "      <th>MntWines</th>\n",
       "      <th>MntFruits</th>\n",
       "      <th>MntMeatProducts</th>\n",
       "      <th>MntFishProducts</th>\n",
       "      <th>MntSweetProducts</th>\n",
       "      <th>MntGoldProds</th>\n",
       "      <th>...</th>\n",
       "      <th>education_Basic</th>\n",
       "      <th>education_Graduation</th>\n",
       "      <th>education_Master</th>\n",
       "      <th>education_PhD</th>\n",
       "      <th>MntTotal</th>\n",
       "      <th>MntRegularProds</th>\n",
       "      <th>AcceptedCmpOverall</th>\n",
       "      <th>Marital</th>\n",
       "      <th>Education</th>\n",
       "      <th>No_of_Children</th>\n",
       "    </tr>\n",
       "  </thead>\n",
       "  <tbody>\n",
       "    <tr>\n",
       "      <th>0</th>\n",
       "      <td>58138.0</td>\n",
       "      <td>0</td>\n",
       "      <td>0</td>\n",
       "      <td>58</td>\n",
       "      <td>635</td>\n",
       "      <td>88</td>\n",
       "      <td>546</td>\n",
       "      <td>172</td>\n",
       "      <td>88</td>\n",
       "      <td>88</td>\n",
       "      <td>...</td>\n",
       "      <td>0</td>\n",
       "      <td>1</td>\n",
       "      <td>0</td>\n",
       "      <td>0</td>\n",
       "      <td>1529</td>\n",
       "      <td>1441</td>\n",
       "      <td>0</td>\n",
       "      <td>0</td>\n",
       "      <td>Graduation</td>\n",
       "      <td>0</td>\n",
       "    </tr>\n",
       "    <tr>\n",
       "      <th>1</th>\n",
       "      <td>46344.0</td>\n",
       "      <td>1</td>\n",
       "      <td>1</td>\n",
       "      <td>38</td>\n",
       "      <td>11</td>\n",
       "      <td>1</td>\n",
       "      <td>6</td>\n",
       "      <td>2</td>\n",
       "      <td>1</td>\n",
       "      <td>6</td>\n",
       "      <td>...</td>\n",
       "      <td>0</td>\n",
       "      <td>1</td>\n",
       "      <td>0</td>\n",
       "      <td>0</td>\n",
       "      <td>21</td>\n",
       "      <td>15</td>\n",
       "      <td>0</td>\n",
       "      <td>0</td>\n",
       "      <td>Graduation</td>\n",
       "      <td>2</td>\n",
       "    </tr>\n",
       "    <tr>\n",
       "      <th>2</th>\n",
       "      <td>71613.0</td>\n",
       "      <td>0</td>\n",
       "      <td>0</td>\n",
       "      <td>26</td>\n",
       "      <td>426</td>\n",
       "      <td>49</td>\n",
       "      <td>127</td>\n",
       "      <td>111</td>\n",
       "      <td>21</td>\n",
       "      <td>42</td>\n",
       "      <td>...</td>\n",
       "      <td>0</td>\n",
       "      <td>1</td>\n",
       "      <td>0</td>\n",
       "      <td>0</td>\n",
       "      <td>734</td>\n",
       "      <td>692</td>\n",
       "      <td>0</td>\n",
       "      <td>1</td>\n",
       "      <td>Graduation</td>\n",
       "      <td>0</td>\n",
       "    </tr>\n",
       "    <tr>\n",
       "      <th>3</th>\n",
       "      <td>26646.0</td>\n",
       "      <td>1</td>\n",
       "      <td>0</td>\n",
       "      <td>26</td>\n",
       "      <td>11</td>\n",
       "      <td>4</td>\n",
       "      <td>20</td>\n",
       "      <td>10</td>\n",
       "      <td>3</td>\n",
       "      <td>5</td>\n",
       "      <td>...</td>\n",
       "      <td>0</td>\n",
       "      <td>1</td>\n",
       "      <td>0</td>\n",
       "      <td>0</td>\n",
       "      <td>48</td>\n",
       "      <td>43</td>\n",
       "      <td>0</td>\n",
       "      <td>1</td>\n",
       "      <td>Graduation</td>\n",
       "      <td>1</td>\n",
       "    </tr>\n",
       "    <tr>\n",
       "      <th>4</th>\n",
       "      <td>58293.0</td>\n",
       "      <td>1</td>\n",
       "      <td>0</td>\n",
       "      <td>94</td>\n",
       "      <td>173</td>\n",
       "      <td>43</td>\n",
       "      <td>118</td>\n",
       "      <td>46</td>\n",
       "      <td>27</td>\n",
       "      <td>15</td>\n",
       "      <td>...</td>\n",
       "      <td>0</td>\n",
       "      <td>0</td>\n",
       "      <td>0</td>\n",
       "      <td>1</td>\n",
       "      <td>407</td>\n",
       "      <td>392</td>\n",
       "      <td>0</td>\n",
       "      <td>1</td>\n",
       "      <td>PhD</td>\n",
       "      <td>1</td>\n",
       "    </tr>\n",
       "  </tbody>\n",
       "</table>\n",
       "<p>5 rows × 42 columns</p>\n",
       "</div>"
      ],
      "text/plain": [
       "    Income  Kidhome  Teenhome  Recency  MntWines  MntFruits  MntMeatProducts  \\\n",
       "0  58138.0        0         0       58       635         88              546   \n",
       "1  46344.0        1         1       38        11          1                6   \n",
       "2  71613.0        0         0       26       426         49              127   \n",
       "3  26646.0        1         0       26        11          4               20   \n",
       "4  58293.0        1         0       94       173         43              118   \n",
       "\n",
       "   MntFishProducts  MntSweetProducts  MntGoldProds  ...  education_Basic  \\\n",
       "0              172                88            88  ...                0   \n",
       "1                2                 1             6  ...                0   \n",
       "2              111                21            42  ...                0   \n",
       "3               10                 3             5  ...                0   \n",
       "4               46                27            15  ...                0   \n",
       "\n",
       "   education_Graduation  education_Master  education_PhD  MntTotal  \\\n",
       "0                     1                 0              0      1529   \n",
       "1                     1                 0              0        21   \n",
       "2                     1                 0              0       734   \n",
       "3                     1                 0              0        48   \n",
       "4                     0                 0              1       407   \n",
       "\n",
       "   MntRegularProds  AcceptedCmpOverall  Marital   Education  No_of_Children  \n",
       "0             1441                   0        0  Graduation               0  \n",
       "1               15                   0        0  Graduation               2  \n",
       "2              692                   0        1  Graduation               0  \n",
       "3               43                   0        1  Graduation               1  \n",
       "4              392                   0        1         PhD               1  \n",
       "\n",
       "[5 rows x 42 columns]"
      ]
     },
     "execution_count": 10,
     "metadata": {},
     "output_type": "execute_result"
    }
   ],
   "source": [
    "# Adding the no of kids and teens\n",
    "data['No_of_Children']=data['Kidhome']+data['Teenhome']\n",
    "data.head()"
   ]
  },
  {
   "cell_type": "code",
   "execution_count": 11,
   "id": "09714196",
   "metadata": {
    "execution": {
     "iopub.execute_input": "2022-08-05T23:58:11.521841Z",
     "iopub.status.busy": "2022-08-05T23:58:11.521395Z",
     "iopub.status.idle": "2022-08-05T23:58:11.530338Z",
     "shell.execute_reply": "2022-08-05T23:58:11.528856Z"
    },
    "papermill": {
     "duration": 0.032858,
     "end_time": "2022-08-05T23:58:11.533594",
     "exception": false,
     "start_time": "2022-08-05T23:58:11.500736",
     "status": "completed"
    },
    "tags": []
   },
   "outputs": [
    {
     "data": {
      "text/plain": [
       "Index(['Income', 'Kidhome', 'Teenhome', 'Recency', 'MntWines', 'MntFruits',\n",
       "       'MntMeatProducts', 'MntFishProducts', 'MntSweetProducts',\n",
       "       'MntGoldProds', 'NumDealsPurchases', 'NumWebPurchases',\n",
       "       'NumCatalogPurchases', 'NumStorePurchases', 'NumWebVisitsMonth',\n",
       "       'AcceptedCmp3', 'AcceptedCmp4', 'AcceptedCmp5', 'AcceptedCmp1',\n",
       "       'AcceptedCmp2', 'Complain', 'Z_CostContact', 'Z_Revenue', 'Response',\n",
       "       'Age', 'Customer_Asso_Years', 'marital_Divorced', 'marital_Married',\n",
       "       'marital_Single', 'marital_Together', 'marital_Widow',\n",
       "       'education_2n Cycle', 'education_Basic', 'education_Graduation',\n",
       "       'education_Master', 'education_PhD', 'MntTotal', 'MntRegularProds',\n",
       "       'AcceptedCmpOverall', 'Marital', 'Education', 'No_of_Children'],\n",
       "      dtype='object')"
      ]
     },
     "execution_count": 11,
     "metadata": {},
     "output_type": "execute_result"
    }
   ],
   "source": [
    "data.columns"
   ]
  },
  {
   "cell_type": "code",
   "execution_count": 12,
   "id": "cf983d1b",
   "metadata": {
    "execution": {
     "iopub.execute_input": "2022-08-05T23:58:11.575928Z",
     "iopub.status.busy": "2022-08-05T23:58:11.575455Z",
     "iopub.status.idle": "2022-08-05T23:58:11.595028Z",
     "shell.execute_reply": "2022-08-05T23:58:11.593524Z"
    },
    "papermill": {
     "duration": 0.044183,
     "end_time": "2022-08-05T23:58:11.597902",
     "exception": false,
     "start_time": "2022-08-05T23:58:11.553719",
     "status": "completed"
    },
    "tags": []
   },
   "outputs": [
    {
     "data": {
      "text/html": [
       "<div>\n",
       "<style scoped>\n",
       "    .dataframe tbody tr th:only-of-type {\n",
       "        vertical-align: middle;\n",
       "    }\n",
       "\n",
       "    .dataframe tbody tr th {\n",
       "        vertical-align: top;\n",
       "    }\n",
       "\n",
       "    .dataframe thead th {\n",
       "        text-align: right;\n",
       "    }\n",
       "</style>\n",
       "<table border=\"1\" class=\"dataframe\">\n",
       "  <thead>\n",
       "    <tr style=\"text-align: right;\">\n",
       "      <th></th>\n",
       "      <th>AcceptedCmp1</th>\n",
       "      <th>AcceptedCmp2</th>\n",
       "      <th>AcceptedCmp3</th>\n",
       "      <th>AcceptedCmp4</th>\n",
       "      <th>AcceptedCmp5</th>\n",
       "      <th>Response</th>\n",
       "      <th>AcceptedCmpOverall</th>\n",
       "    </tr>\n",
       "  </thead>\n",
       "  <tbody>\n",
       "    <tr>\n",
       "      <th>0</th>\n",
       "      <td>0</td>\n",
       "      <td>0</td>\n",
       "      <td>0</td>\n",
       "      <td>0</td>\n",
       "      <td>0</td>\n",
       "      <td>1</td>\n",
       "      <td>0</td>\n",
       "    </tr>\n",
       "    <tr>\n",
       "      <th>1</th>\n",
       "      <td>0</td>\n",
       "      <td>0</td>\n",
       "      <td>0</td>\n",
       "      <td>0</td>\n",
       "      <td>0</td>\n",
       "      <td>0</td>\n",
       "      <td>0</td>\n",
       "    </tr>\n",
       "    <tr>\n",
       "      <th>2</th>\n",
       "      <td>0</td>\n",
       "      <td>0</td>\n",
       "      <td>0</td>\n",
       "      <td>0</td>\n",
       "      <td>0</td>\n",
       "      <td>0</td>\n",
       "      <td>0</td>\n",
       "    </tr>\n",
       "    <tr>\n",
       "      <th>3</th>\n",
       "      <td>0</td>\n",
       "      <td>0</td>\n",
       "      <td>0</td>\n",
       "      <td>0</td>\n",
       "      <td>0</td>\n",
       "      <td>0</td>\n",
       "      <td>0</td>\n",
       "    </tr>\n",
       "    <tr>\n",
       "      <th>4</th>\n",
       "      <td>0</td>\n",
       "      <td>0</td>\n",
       "      <td>0</td>\n",
       "      <td>0</td>\n",
       "      <td>0</td>\n",
       "      <td>0</td>\n",
       "      <td>0</td>\n",
       "    </tr>\n",
       "    <tr>\n",
       "      <th>5</th>\n",
       "      <td>0</td>\n",
       "      <td>0</td>\n",
       "      <td>0</td>\n",
       "      <td>0</td>\n",
       "      <td>0</td>\n",
       "      <td>0</td>\n",
       "      <td>0</td>\n",
       "    </tr>\n",
       "    <tr>\n",
       "      <th>6</th>\n",
       "      <td>0</td>\n",
       "      <td>0</td>\n",
       "      <td>0</td>\n",
       "      <td>0</td>\n",
       "      <td>0</td>\n",
       "      <td>0</td>\n",
       "      <td>0</td>\n",
       "    </tr>\n",
       "    <tr>\n",
       "      <th>7</th>\n",
       "      <td>0</td>\n",
       "      <td>0</td>\n",
       "      <td>0</td>\n",
       "      <td>0</td>\n",
       "      <td>0</td>\n",
       "      <td>0</td>\n",
       "      <td>0</td>\n",
       "    </tr>\n",
       "    <tr>\n",
       "      <th>8</th>\n",
       "      <td>0</td>\n",
       "      <td>0</td>\n",
       "      <td>0</td>\n",
       "      <td>0</td>\n",
       "      <td>0</td>\n",
       "      <td>1</td>\n",
       "      <td>0</td>\n",
       "    </tr>\n",
       "    <tr>\n",
       "      <th>9</th>\n",
       "      <td>0</td>\n",
       "      <td>0</td>\n",
       "      <td>1</td>\n",
       "      <td>0</td>\n",
       "      <td>0</td>\n",
       "      <td>0</td>\n",
       "      <td>1</td>\n",
       "    </tr>\n",
       "  </tbody>\n",
       "</table>\n",
       "</div>"
      ],
      "text/plain": [
       "   AcceptedCmp1  AcceptedCmp2  AcceptedCmp3  AcceptedCmp4  AcceptedCmp5  \\\n",
       "0             0             0             0             0             0   \n",
       "1             0             0             0             0             0   \n",
       "2             0             0             0             0             0   \n",
       "3             0             0             0             0             0   \n",
       "4             0             0             0             0             0   \n",
       "5             0             0             0             0             0   \n",
       "6             0             0             0             0             0   \n",
       "7             0             0             0             0             0   \n",
       "8             0             0             0             0             0   \n",
       "9             0             0             1             0             0   \n",
       "\n",
       "   Response  AcceptedCmpOverall  \n",
       "0         1                   0  \n",
       "1         0                   0  \n",
       "2         0                   0  \n",
       "3         0                   0  \n",
       "4         0                   0  \n",
       "5         0                   0  \n",
       "6         0                   0  \n",
       "7         0                   0  \n",
       "8         1                   0  \n",
       "9         0                   1  "
      ]
     },
     "execution_count": 12,
     "metadata": {},
     "output_type": "execute_result"
    }
   ],
   "source": [
    "data[['AcceptedCmp1','AcceptedCmp2','AcceptedCmp3','AcceptedCmp4','AcceptedCmp5','Response','AcceptedCmpOverall']].head(10)"
   ]
  },
  {
   "cell_type": "code",
   "execution_count": 13,
   "id": "906e2ebe",
   "metadata": {
    "execution": {
     "iopub.execute_input": "2022-08-05T23:58:11.639206Z",
     "iopub.status.busy": "2022-08-05T23:58:11.638771Z",
     "iopub.status.idle": "2022-08-05T23:58:12.457346Z",
     "shell.execute_reply": "2022-08-05T23:58:12.456058Z"
    },
    "papermill": {
     "duration": 0.842385,
     "end_time": "2022-08-05T23:58:12.460281",
     "exception": false,
     "start_time": "2022-08-05T23:58:11.617896",
     "status": "completed"
    },
    "tags": []
   },
   "outputs": [
    {
     "name": "stderr",
     "output_type": "stream",
     "text": [
      "/opt/conda/lib/python3.7/site-packages/ipykernel_launcher.py:2: SettingWithCopyWarning: \n",
      "A value is trying to be set on a copy of a slice from a DataFrame\n",
      "\n",
      "See the caveats in the documentation: https://pandas.pydata.org/pandas-docs/stable/user_guide/indexing.html#returning-a-view-versus-a-copy\n",
      "  \n"
     ]
    }
   ],
   "source": [
    "for ind in data.index:\n",
    "    data['AcceptedCmpOverall'][ind]=data['AcceptedCmpOverall'][ind]+data['Response'][ind]"
   ]
  },
  {
   "cell_type": "code",
   "execution_count": 14,
   "id": "a37b8d3c",
   "metadata": {
    "execution": {
     "iopub.execute_input": "2022-08-05T23:58:12.502452Z",
     "iopub.status.busy": "2022-08-05T23:58:12.501751Z",
     "iopub.status.idle": "2022-08-05T23:58:12.517653Z",
     "shell.execute_reply": "2022-08-05T23:58:12.516131Z"
    },
    "papermill": {
     "duration": 0.040324,
     "end_time": "2022-08-05T23:58:12.520493",
     "exception": false,
     "start_time": "2022-08-05T23:58:12.480169",
     "status": "completed"
    },
    "tags": []
   },
   "outputs": [
    {
     "data": {
      "text/html": [
       "<div>\n",
       "<style scoped>\n",
       "    .dataframe tbody tr th:only-of-type {\n",
       "        vertical-align: middle;\n",
       "    }\n",
       "\n",
       "    .dataframe tbody tr th {\n",
       "        vertical-align: top;\n",
       "    }\n",
       "\n",
       "    .dataframe thead th {\n",
       "        text-align: right;\n",
       "    }\n",
       "</style>\n",
       "<table border=\"1\" class=\"dataframe\">\n",
       "  <thead>\n",
       "    <tr style=\"text-align: right;\">\n",
       "      <th></th>\n",
       "      <th>AcceptedCmp1</th>\n",
       "      <th>AcceptedCmp2</th>\n",
       "      <th>AcceptedCmp3</th>\n",
       "      <th>AcceptedCmp4</th>\n",
       "      <th>AcceptedCmp5</th>\n",
       "      <th>Response</th>\n",
       "      <th>AcceptedCmpOverall</th>\n",
       "    </tr>\n",
       "  </thead>\n",
       "  <tbody>\n",
       "    <tr>\n",
       "      <th>0</th>\n",
       "      <td>0</td>\n",
       "      <td>0</td>\n",
       "      <td>0</td>\n",
       "      <td>0</td>\n",
       "      <td>0</td>\n",
       "      <td>1</td>\n",
       "      <td>1</td>\n",
       "    </tr>\n",
       "    <tr>\n",
       "      <th>1</th>\n",
       "      <td>0</td>\n",
       "      <td>0</td>\n",
       "      <td>0</td>\n",
       "      <td>0</td>\n",
       "      <td>0</td>\n",
       "      <td>0</td>\n",
       "      <td>0</td>\n",
       "    </tr>\n",
       "    <tr>\n",
       "      <th>2</th>\n",
       "      <td>0</td>\n",
       "      <td>0</td>\n",
       "      <td>0</td>\n",
       "      <td>0</td>\n",
       "      <td>0</td>\n",
       "      <td>0</td>\n",
       "      <td>0</td>\n",
       "    </tr>\n",
       "    <tr>\n",
       "      <th>3</th>\n",
       "      <td>0</td>\n",
       "      <td>0</td>\n",
       "      <td>0</td>\n",
       "      <td>0</td>\n",
       "      <td>0</td>\n",
       "      <td>0</td>\n",
       "      <td>0</td>\n",
       "    </tr>\n",
       "    <tr>\n",
       "      <th>4</th>\n",
       "      <td>0</td>\n",
       "      <td>0</td>\n",
       "      <td>0</td>\n",
       "      <td>0</td>\n",
       "      <td>0</td>\n",
       "      <td>0</td>\n",
       "      <td>0</td>\n",
       "    </tr>\n",
       "    <tr>\n",
       "      <th>5</th>\n",
       "      <td>0</td>\n",
       "      <td>0</td>\n",
       "      <td>0</td>\n",
       "      <td>0</td>\n",
       "      <td>0</td>\n",
       "      <td>0</td>\n",
       "      <td>0</td>\n",
       "    </tr>\n",
       "    <tr>\n",
       "      <th>6</th>\n",
       "      <td>0</td>\n",
       "      <td>0</td>\n",
       "      <td>0</td>\n",
       "      <td>0</td>\n",
       "      <td>0</td>\n",
       "      <td>0</td>\n",
       "      <td>0</td>\n",
       "    </tr>\n",
       "    <tr>\n",
       "      <th>7</th>\n",
       "      <td>0</td>\n",
       "      <td>0</td>\n",
       "      <td>0</td>\n",
       "      <td>0</td>\n",
       "      <td>0</td>\n",
       "      <td>0</td>\n",
       "      <td>0</td>\n",
       "    </tr>\n",
       "    <tr>\n",
       "      <th>8</th>\n",
       "      <td>0</td>\n",
       "      <td>0</td>\n",
       "      <td>0</td>\n",
       "      <td>0</td>\n",
       "      <td>0</td>\n",
       "      <td>1</td>\n",
       "      <td>1</td>\n",
       "    </tr>\n",
       "    <tr>\n",
       "      <th>9</th>\n",
       "      <td>0</td>\n",
       "      <td>0</td>\n",
       "      <td>1</td>\n",
       "      <td>0</td>\n",
       "      <td>0</td>\n",
       "      <td>0</td>\n",
       "      <td>1</td>\n",
       "    </tr>\n",
       "  </tbody>\n",
       "</table>\n",
       "</div>"
      ],
      "text/plain": [
       "   AcceptedCmp1  AcceptedCmp2  AcceptedCmp3  AcceptedCmp4  AcceptedCmp5  \\\n",
       "0             0             0             0             0             0   \n",
       "1             0             0             0             0             0   \n",
       "2             0             0             0             0             0   \n",
       "3             0             0             0             0             0   \n",
       "4             0             0             0             0             0   \n",
       "5             0             0             0             0             0   \n",
       "6             0             0             0             0             0   \n",
       "7             0             0             0             0             0   \n",
       "8             0             0             0             0             0   \n",
       "9             0             0             1             0             0   \n",
       "\n",
       "   Response  AcceptedCmpOverall  \n",
       "0         1                   1  \n",
       "1         0                   0  \n",
       "2         0                   0  \n",
       "3         0                   0  \n",
       "4         0                   0  \n",
       "5         0                   0  \n",
       "6         0                   0  \n",
       "7         0                   0  \n",
       "8         1                   1  \n",
       "9         0                   1  "
      ]
     },
     "execution_count": 14,
     "metadata": {},
     "output_type": "execute_result"
    }
   ],
   "source": [
    "data[['AcceptedCmp1','AcceptedCmp2','AcceptedCmp3','AcceptedCmp4','AcceptedCmp5','Response','AcceptedCmpOverall']].head(10)"
   ]
  },
  {
   "cell_type": "code",
   "execution_count": 15,
   "id": "f41abb0e",
   "metadata": {
    "execution": {
     "iopub.execute_input": "2022-08-05T23:58:12.562407Z",
     "iopub.status.busy": "2022-08-05T23:58:12.561951Z",
     "iopub.status.idle": "2022-08-05T23:58:12.577513Z",
     "shell.execute_reply": "2022-08-05T23:58:12.576183Z"
    },
    "papermill": {
     "duration": 0.039798,
     "end_time": "2022-08-05T23:58:12.580303",
     "exception": false,
     "start_time": "2022-08-05T23:58:12.540505",
     "status": "completed"
    },
    "tags": []
   },
   "outputs": [
    {
     "data": {
      "text/html": [
       "<div>\n",
       "<style scoped>\n",
       "    .dataframe tbody tr th:only-of-type {\n",
       "        vertical-align: middle;\n",
       "    }\n",
       "\n",
       "    .dataframe tbody tr th {\n",
       "        vertical-align: top;\n",
       "    }\n",
       "\n",
       "    .dataframe thead th {\n",
       "        text-align: right;\n",
       "    }\n",
       "</style>\n",
       "<table border=\"1\" class=\"dataframe\">\n",
       "  <thead>\n",
       "    <tr style=\"text-align: right;\">\n",
       "      <th></th>\n",
       "      <th>MntWines</th>\n",
       "      <th>MntFruits</th>\n",
       "      <th>MntMeatProducts</th>\n",
       "      <th>MntFishProducts</th>\n",
       "      <th>MntSweetProducts</th>\n",
       "      <th>MntGoldProds</th>\n",
       "      <th>MntRegularProds</th>\n",
       "      <th>MntTotal</th>\n",
       "    </tr>\n",
       "  </thead>\n",
       "  <tbody>\n",
       "    <tr>\n",
       "      <th>0</th>\n",
       "      <td>635</td>\n",
       "      <td>88</td>\n",
       "      <td>546</td>\n",
       "      <td>172</td>\n",
       "      <td>88</td>\n",
       "      <td>88</td>\n",
       "      <td>1441</td>\n",
       "      <td>1529</td>\n",
       "    </tr>\n",
       "    <tr>\n",
       "      <th>1</th>\n",
       "      <td>11</td>\n",
       "      <td>1</td>\n",
       "      <td>6</td>\n",
       "      <td>2</td>\n",
       "      <td>1</td>\n",
       "      <td>6</td>\n",
       "      <td>15</td>\n",
       "      <td>21</td>\n",
       "    </tr>\n",
       "    <tr>\n",
       "      <th>2</th>\n",
       "      <td>426</td>\n",
       "      <td>49</td>\n",
       "      <td>127</td>\n",
       "      <td>111</td>\n",
       "      <td>21</td>\n",
       "      <td>42</td>\n",
       "      <td>692</td>\n",
       "      <td>734</td>\n",
       "    </tr>\n",
       "    <tr>\n",
       "      <th>3</th>\n",
       "      <td>11</td>\n",
       "      <td>4</td>\n",
       "      <td>20</td>\n",
       "      <td>10</td>\n",
       "      <td>3</td>\n",
       "      <td>5</td>\n",
       "      <td>43</td>\n",
       "      <td>48</td>\n",
       "    </tr>\n",
       "    <tr>\n",
       "      <th>4</th>\n",
       "      <td>173</td>\n",
       "      <td>43</td>\n",
       "      <td>118</td>\n",
       "      <td>46</td>\n",
       "      <td>27</td>\n",
       "      <td>15</td>\n",
       "      <td>392</td>\n",
       "      <td>407</td>\n",
       "    </tr>\n",
       "  </tbody>\n",
       "</table>\n",
       "</div>"
      ],
      "text/plain": [
       "   MntWines  MntFruits  MntMeatProducts  MntFishProducts  MntSweetProducts  \\\n",
       "0       635         88              546              172                88   \n",
       "1        11          1                6                2                 1   \n",
       "2       426         49              127              111                21   \n",
       "3        11          4               20               10                 3   \n",
       "4       173         43              118               46                27   \n",
       "\n",
       "   MntGoldProds  MntRegularProds  MntTotal  \n",
       "0            88             1441      1529  \n",
       "1             6               15        21  \n",
       "2            42              692       734  \n",
       "3             5               43        48  \n",
       "4            15              392       407  "
      ]
     },
     "execution_count": 15,
     "metadata": {},
     "output_type": "execute_result"
    }
   ],
   "source": [
    "data[['MntWines','MntFruits','MntMeatProducts','MntFishProducts','MntSweetProducts','MntGoldProds','MntRegularProds','MntTotal']].head()"
   ]
  },
  {
   "cell_type": "code",
   "execution_count": 16,
   "id": "69067b21",
   "metadata": {
    "execution": {
     "iopub.execute_input": "2022-08-05T23:58:12.623333Z",
     "iopub.status.busy": "2022-08-05T23:58:12.622602Z",
     "iopub.status.idle": "2022-08-05T23:58:13.441224Z",
     "shell.execute_reply": "2022-08-05T23:58:13.439886Z"
    },
    "papermill": {
     "duration": 0.843384,
     "end_time": "2022-08-05T23:58:13.444114",
     "exception": false,
     "start_time": "2022-08-05T23:58:12.600730",
     "status": "completed"
    },
    "tags": []
   },
   "outputs": [
    {
     "name": "stderr",
     "output_type": "stream",
     "text": [
      "/opt/conda/lib/python3.7/site-packages/ipykernel_launcher.py:2: SettingWithCopyWarning: \n",
      "A value is trying to be set on a copy of a slice from a DataFrame\n",
      "\n",
      "See the caveats in the documentation: https://pandas.pydata.org/pandas-docs/stable/user_guide/indexing.html#returning-a-view-versus-a-copy\n",
      "  \n"
     ]
    }
   ],
   "source": [
    "for ind in data.index:\n",
    "    data['MntTotal'][ind]=data['MntTotal'][ind]+data['MntGoldProds'][ind]"
   ]
  },
  {
   "cell_type": "code",
   "execution_count": 17,
   "id": "d5a08c70",
   "metadata": {
    "execution": {
     "iopub.execute_input": "2022-08-05T23:58:13.488288Z",
     "iopub.status.busy": "2022-08-05T23:58:13.487527Z",
     "iopub.status.idle": "2022-08-05T23:58:14.282188Z",
     "shell.execute_reply": "2022-08-05T23:58:14.281045Z"
    },
    "papermill": {
     "duration": 0.820406,
     "end_time": "2022-08-05T23:58:14.285125",
     "exception": false,
     "start_time": "2022-08-05T23:58:13.464719",
     "status": "completed"
    },
    "tags": []
   },
   "outputs": [
    {
     "name": "stderr",
     "output_type": "stream",
     "text": [
      "/opt/conda/lib/python3.7/site-packages/ipykernel_launcher.py:2: SettingWithCopyWarning: \n",
      "A value is trying to be set on a copy of a slice from a DataFrame\n",
      "\n",
      "See the caveats in the documentation: https://pandas.pydata.org/pandas-docs/stable/user_guide/indexing.html#returning-a-view-versus-a-copy\n",
      "  \n"
     ]
    }
   ],
   "source": [
    "for ind in data.index:\n",
    "    data['MntRegularProds'][ind]=data['MntTotal'][ind]-data['MntGoldProds'][ind]"
   ]
  },
  {
   "cell_type": "code",
   "execution_count": 18,
   "id": "aa64006d",
   "metadata": {
    "execution": {
     "iopub.execute_input": "2022-08-05T23:58:14.328812Z",
     "iopub.status.busy": "2022-08-05T23:58:14.327757Z",
     "iopub.status.idle": "2022-08-05T23:58:14.335034Z",
     "shell.execute_reply": "2022-08-05T23:58:14.334043Z"
    },
    "papermill": {
     "duration": 0.031969,
     "end_time": "2022-08-05T23:58:14.337585",
     "exception": false,
     "start_time": "2022-08-05T23:58:14.305616",
     "status": "completed"
    },
    "tags": []
   },
   "outputs": [],
   "source": [
    "# Total_Purchases\n",
    "purchases_cols=[col for col in data.columns if 'Purchases' in col]\n",
    "data['Total_Purchases']=data[purchases_cols].sum(axis=1)"
   ]
  },
  {
   "cell_type": "code",
   "execution_count": 19,
   "id": "4f945c9f",
   "metadata": {
    "execution": {
     "iopub.execute_input": "2022-08-05T23:58:14.380944Z",
     "iopub.status.busy": "2022-08-05T23:58:14.380242Z",
     "iopub.status.idle": "2022-08-05T23:58:14.394274Z",
     "shell.execute_reply": "2022-08-05T23:58:14.393190Z"
    },
    "papermill": {
     "duration": 0.038499,
     "end_time": "2022-08-05T23:58:14.396776",
     "exception": false,
     "start_time": "2022-08-05T23:58:14.358277",
     "status": "completed"
    },
    "tags": []
   },
   "outputs": [
    {
     "data": {
      "text/html": [
       "<div>\n",
       "<style scoped>\n",
       "    .dataframe tbody tr th:only-of-type {\n",
       "        vertical-align: middle;\n",
       "    }\n",
       "\n",
       "    .dataframe tbody tr th {\n",
       "        vertical-align: top;\n",
       "    }\n",
       "\n",
       "    .dataframe thead th {\n",
       "        text-align: right;\n",
       "    }\n",
       "</style>\n",
       "<table border=\"1\" class=\"dataframe\">\n",
       "  <thead>\n",
       "    <tr style=\"text-align: right;\">\n",
       "      <th></th>\n",
       "      <th>NumDealsPurchases</th>\n",
       "      <th>NumWebPurchases</th>\n",
       "      <th>NumCatalogPurchases</th>\n",
       "      <th>NumStorePurchases</th>\n",
       "      <th>Total_Purchases</th>\n",
       "    </tr>\n",
       "  </thead>\n",
       "  <tbody>\n",
       "    <tr>\n",
       "      <th>0</th>\n",
       "      <td>3</td>\n",
       "      <td>8</td>\n",
       "      <td>10</td>\n",
       "      <td>4</td>\n",
       "      <td>25</td>\n",
       "    </tr>\n",
       "    <tr>\n",
       "      <th>1</th>\n",
       "      <td>2</td>\n",
       "      <td>1</td>\n",
       "      <td>1</td>\n",
       "      <td>2</td>\n",
       "      <td>6</td>\n",
       "    </tr>\n",
       "    <tr>\n",
       "      <th>2</th>\n",
       "      <td>1</td>\n",
       "      <td>8</td>\n",
       "      <td>2</td>\n",
       "      <td>10</td>\n",
       "      <td>21</td>\n",
       "    </tr>\n",
       "    <tr>\n",
       "      <th>3</th>\n",
       "      <td>2</td>\n",
       "      <td>2</td>\n",
       "      <td>0</td>\n",
       "      <td>4</td>\n",
       "      <td>8</td>\n",
       "    </tr>\n",
       "    <tr>\n",
       "      <th>4</th>\n",
       "      <td>5</td>\n",
       "      <td>5</td>\n",
       "      <td>3</td>\n",
       "      <td>6</td>\n",
       "      <td>19</td>\n",
       "    </tr>\n",
       "  </tbody>\n",
       "</table>\n",
       "</div>"
      ],
      "text/plain": [
       "   NumDealsPurchases  NumWebPurchases  NumCatalogPurchases  NumStorePurchases  \\\n",
       "0                  3                8                   10                  4   \n",
       "1                  2                1                    1                  2   \n",
       "2                  1                8                    2                 10   \n",
       "3                  2                2                    0                  4   \n",
       "4                  5                5                    3                  6   \n",
       "\n",
       "   Total_Purchases  \n",
       "0               25  \n",
       "1                6  \n",
       "2               21  \n",
       "3                8  \n",
       "4               19  "
      ]
     },
     "execution_count": 19,
     "metadata": {},
     "output_type": "execute_result"
    }
   ],
   "source": [
    "data[['NumDealsPurchases','NumWebPurchases','NumCatalogPurchases','NumStorePurchases','Total_Purchases']].head()"
   ]
  },
  {
   "cell_type": "code",
   "execution_count": 20,
   "id": "fd2f7949",
   "metadata": {
    "execution": {
     "iopub.execute_input": "2022-08-05T23:58:14.440347Z",
     "iopub.status.busy": "2022-08-05T23:58:14.439666Z",
     "iopub.status.idle": "2022-08-05T23:58:14.455625Z",
     "shell.execute_reply": "2022-08-05T23:58:14.454570Z"
    },
    "papermill": {
     "duration": 0.040657,
     "end_time": "2022-08-05T23:58:14.457775",
     "exception": false,
     "start_time": "2022-08-05T23:58:14.417118",
     "status": "completed"
    },
    "tags": []
   },
   "outputs": [
    {
     "data": {
      "text/html": [
       "<div>\n",
       "<style scoped>\n",
       "    .dataframe tbody tr th:only-of-type {\n",
       "        vertical-align: middle;\n",
       "    }\n",
       "\n",
       "    .dataframe tbody tr th {\n",
       "        vertical-align: top;\n",
       "    }\n",
       "\n",
       "    .dataframe thead th {\n",
       "        text-align: right;\n",
       "    }\n",
       "</style>\n",
       "<table border=\"1\" class=\"dataframe\">\n",
       "  <thead>\n",
       "    <tr style=\"text-align: right;\">\n",
       "      <th></th>\n",
       "      <th>MntWines</th>\n",
       "      <th>MntFruits</th>\n",
       "      <th>MntMeatProducts</th>\n",
       "      <th>MntFishProducts</th>\n",
       "      <th>MntSweetProducts</th>\n",
       "      <th>MntGoldProds</th>\n",
       "      <th>MntRegularProds</th>\n",
       "      <th>MntTotal</th>\n",
       "    </tr>\n",
       "  </thead>\n",
       "  <tbody>\n",
       "    <tr>\n",
       "      <th>0</th>\n",
       "      <td>635</td>\n",
       "      <td>88</td>\n",
       "      <td>546</td>\n",
       "      <td>172</td>\n",
       "      <td>88</td>\n",
       "      <td>88</td>\n",
       "      <td>1529</td>\n",
       "      <td>1617</td>\n",
       "    </tr>\n",
       "    <tr>\n",
       "      <th>1</th>\n",
       "      <td>11</td>\n",
       "      <td>1</td>\n",
       "      <td>6</td>\n",
       "      <td>2</td>\n",
       "      <td>1</td>\n",
       "      <td>6</td>\n",
       "      <td>21</td>\n",
       "      <td>27</td>\n",
       "    </tr>\n",
       "    <tr>\n",
       "      <th>2</th>\n",
       "      <td>426</td>\n",
       "      <td>49</td>\n",
       "      <td>127</td>\n",
       "      <td>111</td>\n",
       "      <td>21</td>\n",
       "      <td>42</td>\n",
       "      <td>734</td>\n",
       "      <td>776</td>\n",
       "    </tr>\n",
       "    <tr>\n",
       "      <th>3</th>\n",
       "      <td>11</td>\n",
       "      <td>4</td>\n",
       "      <td>20</td>\n",
       "      <td>10</td>\n",
       "      <td>3</td>\n",
       "      <td>5</td>\n",
       "      <td>48</td>\n",
       "      <td>53</td>\n",
       "    </tr>\n",
       "    <tr>\n",
       "      <th>4</th>\n",
       "      <td>173</td>\n",
       "      <td>43</td>\n",
       "      <td>118</td>\n",
       "      <td>46</td>\n",
       "      <td>27</td>\n",
       "      <td>15</td>\n",
       "      <td>407</td>\n",
       "      <td>422</td>\n",
       "    </tr>\n",
       "  </tbody>\n",
       "</table>\n",
       "</div>"
      ],
      "text/plain": [
       "   MntWines  MntFruits  MntMeatProducts  MntFishProducts  MntSweetProducts  \\\n",
       "0       635         88              546              172                88   \n",
       "1        11          1                6                2                 1   \n",
       "2       426         49              127              111                21   \n",
       "3        11          4               20               10                 3   \n",
       "4       173         43              118               46                27   \n",
       "\n",
       "   MntGoldProds  MntRegularProds  MntTotal  \n",
       "0            88             1529      1617  \n",
       "1             6               21        27  \n",
       "2            42              734       776  \n",
       "3             5               48        53  \n",
       "4            15              407       422  "
      ]
     },
     "execution_count": 20,
     "metadata": {},
     "output_type": "execute_result"
    }
   ],
   "source": [
    "data[['MntWines','MntFruits','MntMeatProducts','MntFishProducts','MntSweetProducts','MntGoldProds','MntRegularProds','MntTotal']].head()"
   ]
  },
  {
   "cell_type": "code",
   "execution_count": 21,
   "id": "8a04e59c",
   "metadata": {
    "execution": {
     "iopub.execute_input": "2022-08-05T23:58:14.502178Z",
     "iopub.status.busy": "2022-08-05T23:58:14.501748Z",
     "iopub.status.idle": "2022-08-05T23:58:14.526869Z",
     "shell.execute_reply": "2022-08-05T23:58:14.525391Z"
    },
    "papermill": {
     "duration": 0.050914,
     "end_time": "2022-08-05T23:58:14.530020",
     "exception": false,
     "start_time": "2022-08-05T23:58:14.479106",
     "status": "completed"
    },
    "tags": []
   },
   "outputs": [
    {
     "data": {
      "text/html": [
       "<div>\n",
       "<style scoped>\n",
       "    .dataframe tbody tr th:only-of-type {\n",
       "        vertical-align: middle;\n",
       "    }\n",
       "\n",
       "    .dataframe tbody tr th {\n",
       "        vertical-align: top;\n",
       "    }\n",
       "\n",
       "    .dataframe thead th {\n",
       "        text-align: right;\n",
       "    }\n",
       "</style>\n",
       "<table border=\"1\" class=\"dataframe\">\n",
       "  <thead>\n",
       "    <tr style=\"text-align: right;\">\n",
       "      <th></th>\n",
       "      <th>Income</th>\n",
       "      <th>Recency</th>\n",
       "      <th>MntWines</th>\n",
       "      <th>MntFruits</th>\n",
       "      <th>MntMeatProducts</th>\n",
       "      <th>MntFishProducts</th>\n",
       "      <th>MntSweetProducts</th>\n",
       "      <th>MntGoldProds</th>\n",
       "      <th>NumDealsPurchases</th>\n",
       "      <th>NumWebPurchases</th>\n",
       "      <th>...</th>\n",
       "      <th>Response</th>\n",
       "      <th>Age</th>\n",
       "      <th>Customer_Asso_Years</th>\n",
       "      <th>MntTotal</th>\n",
       "      <th>MntRegularProds</th>\n",
       "      <th>AcceptedCmpOverall</th>\n",
       "      <th>Marital</th>\n",
       "      <th>Education</th>\n",
       "      <th>No_of_Children</th>\n",
       "      <th>Total_Purchases</th>\n",
       "    </tr>\n",
       "  </thead>\n",
       "  <tbody>\n",
       "    <tr>\n",
       "      <th>0</th>\n",
       "      <td>58138.0</td>\n",
       "      <td>58</td>\n",
       "      <td>635</td>\n",
       "      <td>88</td>\n",
       "      <td>546</td>\n",
       "      <td>172</td>\n",
       "      <td>88</td>\n",
       "      <td>88</td>\n",
       "      <td>3</td>\n",
       "      <td>8</td>\n",
       "      <td>...</td>\n",
       "      <td>1</td>\n",
       "      <td>63</td>\n",
       "      <td>7</td>\n",
       "      <td>1617</td>\n",
       "      <td>1529</td>\n",
       "      <td>1</td>\n",
       "      <td>0</td>\n",
       "      <td>Graduation</td>\n",
       "      <td>0</td>\n",
       "      <td>25</td>\n",
       "    </tr>\n",
       "    <tr>\n",
       "      <th>1</th>\n",
       "      <td>46344.0</td>\n",
       "      <td>38</td>\n",
       "      <td>11</td>\n",
       "      <td>1</td>\n",
       "      <td>6</td>\n",
       "      <td>2</td>\n",
       "      <td>1</td>\n",
       "      <td>6</td>\n",
       "      <td>2</td>\n",
       "      <td>1</td>\n",
       "      <td>...</td>\n",
       "      <td>0</td>\n",
       "      <td>66</td>\n",
       "      <td>6</td>\n",
       "      <td>27</td>\n",
       "      <td>21</td>\n",
       "      <td>0</td>\n",
       "      <td>0</td>\n",
       "      <td>Graduation</td>\n",
       "      <td>2</td>\n",
       "      <td>6</td>\n",
       "    </tr>\n",
       "    <tr>\n",
       "      <th>2</th>\n",
       "      <td>71613.0</td>\n",
       "      <td>26</td>\n",
       "      <td>426</td>\n",
       "      <td>49</td>\n",
       "      <td>127</td>\n",
       "      <td>111</td>\n",
       "      <td>21</td>\n",
       "      <td>42</td>\n",
       "      <td>1</td>\n",
       "      <td>8</td>\n",
       "      <td>...</td>\n",
       "      <td>0</td>\n",
       "      <td>55</td>\n",
       "      <td>6</td>\n",
       "      <td>776</td>\n",
       "      <td>734</td>\n",
       "      <td>0</td>\n",
       "      <td>1</td>\n",
       "      <td>Graduation</td>\n",
       "      <td>0</td>\n",
       "      <td>21</td>\n",
       "    </tr>\n",
       "    <tr>\n",
       "      <th>3</th>\n",
       "      <td>26646.0</td>\n",
       "      <td>26</td>\n",
       "      <td>11</td>\n",
       "      <td>4</td>\n",
       "      <td>20</td>\n",
       "      <td>10</td>\n",
       "      <td>3</td>\n",
       "      <td>5</td>\n",
       "      <td>2</td>\n",
       "      <td>2</td>\n",
       "      <td>...</td>\n",
       "      <td>0</td>\n",
       "      <td>36</td>\n",
       "      <td>6</td>\n",
       "      <td>53</td>\n",
       "      <td>48</td>\n",
       "      <td>0</td>\n",
       "      <td>1</td>\n",
       "      <td>Graduation</td>\n",
       "      <td>1</td>\n",
       "      <td>8</td>\n",
       "    </tr>\n",
       "    <tr>\n",
       "      <th>4</th>\n",
       "      <td>58293.0</td>\n",
       "      <td>94</td>\n",
       "      <td>173</td>\n",
       "      <td>43</td>\n",
       "      <td>118</td>\n",
       "      <td>46</td>\n",
       "      <td>27</td>\n",
       "      <td>15</td>\n",
       "      <td>5</td>\n",
       "      <td>5</td>\n",
       "      <td>...</td>\n",
       "      <td>0</td>\n",
       "      <td>39</td>\n",
       "      <td>6</td>\n",
       "      <td>422</td>\n",
       "      <td>407</td>\n",
       "      <td>0</td>\n",
       "      <td>1</td>\n",
       "      <td>PhD</td>\n",
       "      <td>1</td>\n",
       "      <td>19</td>\n",
       "    </tr>\n",
       "  </tbody>\n",
       "</table>\n",
       "<p>5 rows × 29 columns</p>\n",
       "</div>"
      ],
      "text/plain": [
       "    Income  Recency  MntWines  MntFruits  MntMeatProducts  MntFishProducts  \\\n",
       "0  58138.0       58       635         88              546              172   \n",
       "1  46344.0       38        11          1                6                2   \n",
       "2  71613.0       26       426         49              127              111   \n",
       "3  26646.0       26        11          4               20               10   \n",
       "4  58293.0       94       173         43              118               46   \n",
       "\n",
       "   MntSweetProducts  MntGoldProds  NumDealsPurchases  NumWebPurchases  ...  \\\n",
       "0                88            88                  3                8  ...   \n",
       "1                 1             6                  2                1  ...   \n",
       "2                21            42                  1                8  ...   \n",
       "3                 3             5                  2                2  ...   \n",
       "4                27            15                  5                5  ...   \n",
       "\n",
       "   Response  Age  Customer_Asso_Years  MntTotal  MntRegularProds  \\\n",
       "0         1   63                    7      1617             1529   \n",
       "1         0   66                    6        27               21   \n",
       "2         0   55                    6       776              734   \n",
       "3         0   36                    6        53               48   \n",
       "4         0   39                    6       422              407   \n",
       "\n",
       "   AcceptedCmpOverall  Marital   Education  No_of_Children  Total_Purchases  \n",
       "0                   1        0  Graduation               0               25  \n",
       "1                   0        0  Graduation               2                6  \n",
       "2                   0        1  Graduation               0               21  \n",
       "3                   0        1  Graduation               1                8  \n",
       "4                   0        1         PhD               1               19  \n",
       "\n",
       "[5 rows x 29 columns]"
      ]
     },
     "execution_count": 21,
     "metadata": {},
     "output_type": "execute_result"
    }
   ],
   "source": [
    "#Dropping the columns which are not useful for data analysis\n",
    "\n",
    "data=data.drop(['Z_CostContact','Z_Revenue','marital_Divorced','marital_Married','marital_Single','marital_Together','marital_Widow','education_2n Cycle','education_Basic','education_Graduation','education_Master','education_PhD','Kidhome','Teenhome'],axis=1)\n",
    "data.head()"
   ]
  },
  {
   "cell_type": "code",
   "execution_count": 22,
   "id": "28c22ed2",
   "metadata": {
    "execution": {
     "iopub.execute_input": "2022-08-05T23:58:14.574248Z",
     "iopub.status.busy": "2022-08-05T23:58:14.573221Z",
     "iopub.status.idle": "2022-08-05T23:58:14.581236Z",
     "shell.execute_reply": "2022-08-05T23:58:14.580021Z"
    },
    "papermill": {
     "duration": 0.032581,
     "end_time": "2022-08-05T23:58:14.583704",
     "exception": false,
     "start_time": "2022-08-05T23:58:14.551123",
     "status": "completed"
    },
    "tags": []
   },
   "outputs": [
    {
     "data": {
      "text/plain": [
       "Index(['Income', 'Recency', 'MntWines', 'MntFruits', 'MntMeatProducts',\n",
       "       'MntFishProducts', 'MntSweetProducts', 'MntGoldProds',\n",
       "       'NumDealsPurchases', 'NumWebPurchases', 'NumCatalogPurchases',\n",
       "       'NumStorePurchases', 'NumWebVisitsMonth', 'AcceptedCmp3',\n",
       "       'AcceptedCmp4', 'AcceptedCmp5', 'AcceptedCmp1', 'AcceptedCmp2',\n",
       "       'Complain', 'Response', 'Age', 'Customer_Asso_Years', 'MntTotal',\n",
       "       'MntRegularProds', 'AcceptedCmpOverall', 'Marital', 'Education',\n",
       "       'No_of_Children', 'Total_Purchases'],\n",
       "      dtype='object')"
      ]
     },
     "execution_count": 22,
     "metadata": {},
     "output_type": "execute_result"
    }
   ],
   "source": [
    "data.columns"
   ]
  },
  {
   "cell_type": "code",
   "execution_count": 23,
   "id": "a3c8f16d",
   "metadata": {
    "execution": {
     "iopub.execute_input": "2022-08-05T23:58:14.627737Z",
     "iopub.status.busy": "2022-08-05T23:58:14.627078Z",
     "iopub.status.idle": "2022-08-05T23:58:14.633332Z",
     "shell.execute_reply": "2022-08-05T23:58:14.632401Z"
    },
    "papermill": {
     "duration": 0.031061,
     "end_time": "2022-08-05T23:58:14.635576",
     "exception": false,
     "start_time": "2022-08-05T23:58:14.604515",
     "status": "completed"
    },
    "tags": []
   },
   "outputs": [
    {
     "data": {
      "text/plain": [
       "(2205, 29)"
      ]
     },
     "execution_count": 23,
     "metadata": {},
     "output_type": "execute_result"
    }
   ],
   "source": [
    "data.shape"
   ]
  },
  {
   "cell_type": "code",
   "execution_count": 24,
   "id": "b48f7ad1",
   "metadata": {
    "execution": {
     "iopub.execute_input": "2022-08-05T23:58:14.680031Z",
     "iopub.status.busy": "2022-08-05T23:58:14.679313Z",
     "iopub.status.idle": "2022-08-05T23:58:14.782407Z",
     "shell.execute_reply": "2022-08-05T23:58:14.781187Z"
    },
    "papermill": {
     "duration": 0.128573,
     "end_time": "2022-08-05T23:58:14.785094",
     "exception": false,
     "start_time": "2022-08-05T23:58:14.656521",
     "status": "completed"
    },
    "tags": []
   },
   "outputs": [
    {
     "data": {
      "text/html": [
       "<div>\n",
       "<style scoped>\n",
       "    .dataframe tbody tr th:only-of-type {\n",
       "        vertical-align: middle;\n",
       "    }\n",
       "\n",
       "    .dataframe tbody tr th {\n",
       "        vertical-align: top;\n",
       "    }\n",
       "\n",
       "    .dataframe thead th {\n",
       "        text-align: right;\n",
       "    }\n",
       "</style>\n",
       "<table border=\"1\" class=\"dataframe\">\n",
       "  <thead>\n",
       "    <tr style=\"text-align: right;\">\n",
       "      <th></th>\n",
       "      <th>count</th>\n",
       "      <th>mean</th>\n",
       "      <th>std</th>\n",
       "      <th>min</th>\n",
       "      <th>25%</th>\n",
       "      <th>50%</th>\n",
       "      <th>75%</th>\n",
       "      <th>max</th>\n",
       "    </tr>\n",
       "  </thead>\n",
       "  <tbody>\n",
       "    <tr>\n",
       "      <th>Income</th>\n",
       "      <td>2205.0</td>\n",
       "      <td>51622.094785</td>\n",
       "      <td>20713.063826</td>\n",
       "      <td>1730.0</td>\n",
       "      <td>35196.0</td>\n",
       "      <td>51287.0</td>\n",
       "      <td>68281.0</td>\n",
       "      <td>113734.0</td>\n",
       "    </tr>\n",
       "    <tr>\n",
       "      <th>Recency</th>\n",
       "      <td>2205.0</td>\n",
       "      <td>49.009070</td>\n",
       "      <td>28.932111</td>\n",
       "      <td>0.0</td>\n",
       "      <td>24.0</td>\n",
       "      <td>49.0</td>\n",
       "      <td>74.0</td>\n",
       "      <td>99.0</td>\n",
       "    </tr>\n",
       "    <tr>\n",
       "      <th>MntWines</th>\n",
       "      <td>2205.0</td>\n",
       "      <td>306.164626</td>\n",
       "      <td>337.493839</td>\n",
       "      <td>0.0</td>\n",
       "      <td>24.0</td>\n",
       "      <td>178.0</td>\n",
       "      <td>507.0</td>\n",
       "      <td>1493.0</td>\n",
       "    </tr>\n",
       "    <tr>\n",
       "      <th>MntFruits</th>\n",
       "      <td>2205.0</td>\n",
       "      <td>26.403175</td>\n",
       "      <td>39.784484</td>\n",
       "      <td>0.0</td>\n",
       "      <td>2.0</td>\n",
       "      <td>8.0</td>\n",
       "      <td>33.0</td>\n",
       "      <td>199.0</td>\n",
       "    </tr>\n",
       "    <tr>\n",
       "      <th>MntMeatProducts</th>\n",
       "      <td>2205.0</td>\n",
       "      <td>165.312018</td>\n",
       "      <td>217.784507</td>\n",
       "      <td>0.0</td>\n",
       "      <td>16.0</td>\n",
       "      <td>68.0</td>\n",
       "      <td>232.0</td>\n",
       "      <td>1725.0</td>\n",
       "    </tr>\n",
       "    <tr>\n",
       "      <th>MntFishProducts</th>\n",
       "      <td>2205.0</td>\n",
       "      <td>37.756463</td>\n",
       "      <td>54.824635</td>\n",
       "      <td>0.0</td>\n",
       "      <td>3.0</td>\n",
       "      <td>12.0</td>\n",
       "      <td>50.0</td>\n",
       "      <td>259.0</td>\n",
       "    </tr>\n",
       "    <tr>\n",
       "      <th>MntSweetProducts</th>\n",
       "      <td>2205.0</td>\n",
       "      <td>27.128345</td>\n",
       "      <td>41.130468</td>\n",
       "      <td>0.0</td>\n",
       "      <td>1.0</td>\n",
       "      <td>8.0</td>\n",
       "      <td>34.0</td>\n",
       "      <td>262.0</td>\n",
       "    </tr>\n",
       "    <tr>\n",
       "      <th>MntGoldProds</th>\n",
       "      <td>2205.0</td>\n",
       "      <td>44.057143</td>\n",
       "      <td>51.736211</td>\n",
       "      <td>0.0</td>\n",
       "      <td>9.0</td>\n",
       "      <td>25.0</td>\n",
       "      <td>56.0</td>\n",
       "      <td>321.0</td>\n",
       "    </tr>\n",
       "    <tr>\n",
       "      <th>NumDealsPurchases</th>\n",
       "      <td>2205.0</td>\n",
       "      <td>2.318367</td>\n",
       "      <td>1.886107</td>\n",
       "      <td>0.0</td>\n",
       "      <td>1.0</td>\n",
       "      <td>2.0</td>\n",
       "      <td>3.0</td>\n",
       "      <td>15.0</td>\n",
       "    </tr>\n",
       "    <tr>\n",
       "      <th>NumWebPurchases</th>\n",
       "      <td>2205.0</td>\n",
       "      <td>4.100680</td>\n",
       "      <td>2.737424</td>\n",
       "      <td>0.0</td>\n",
       "      <td>2.0</td>\n",
       "      <td>4.0</td>\n",
       "      <td>6.0</td>\n",
       "      <td>27.0</td>\n",
       "    </tr>\n",
       "    <tr>\n",
       "      <th>NumCatalogPurchases</th>\n",
       "      <td>2205.0</td>\n",
       "      <td>2.645351</td>\n",
       "      <td>2.798647</td>\n",
       "      <td>0.0</td>\n",
       "      <td>0.0</td>\n",
       "      <td>2.0</td>\n",
       "      <td>4.0</td>\n",
       "      <td>28.0</td>\n",
       "    </tr>\n",
       "    <tr>\n",
       "      <th>NumStorePurchases</th>\n",
       "      <td>2205.0</td>\n",
       "      <td>5.823583</td>\n",
       "      <td>3.241796</td>\n",
       "      <td>0.0</td>\n",
       "      <td>3.0</td>\n",
       "      <td>5.0</td>\n",
       "      <td>8.0</td>\n",
       "      <td>13.0</td>\n",
       "    </tr>\n",
       "    <tr>\n",
       "      <th>NumWebVisitsMonth</th>\n",
       "      <td>2205.0</td>\n",
       "      <td>5.336961</td>\n",
       "      <td>2.413535</td>\n",
       "      <td>0.0</td>\n",
       "      <td>3.0</td>\n",
       "      <td>6.0</td>\n",
       "      <td>7.0</td>\n",
       "      <td>20.0</td>\n",
       "    </tr>\n",
       "    <tr>\n",
       "      <th>AcceptedCmp3</th>\n",
       "      <td>2205.0</td>\n",
       "      <td>0.073923</td>\n",
       "      <td>0.261705</td>\n",
       "      <td>0.0</td>\n",
       "      <td>0.0</td>\n",
       "      <td>0.0</td>\n",
       "      <td>0.0</td>\n",
       "      <td>1.0</td>\n",
       "    </tr>\n",
       "    <tr>\n",
       "      <th>AcceptedCmp4</th>\n",
       "      <td>2205.0</td>\n",
       "      <td>0.074376</td>\n",
       "      <td>0.262442</td>\n",
       "      <td>0.0</td>\n",
       "      <td>0.0</td>\n",
       "      <td>0.0</td>\n",
       "      <td>0.0</td>\n",
       "      <td>1.0</td>\n",
       "    </tr>\n",
       "    <tr>\n",
       "      <th>AcceptedCmp5</th>\n",
       "      <td>2205.0</td>\n",
       "      <td>0.073016</td>\n",
       "      <td>0.260222</td>\n",
       "      <td>0.0</td>\n",
       "      <td>0.0</td>\n",
       "      <td>0.0</td>\n",
       "      <td>0.0</td>\n",
       "      <td>1.0</td>\n",
       "    </tr>\n",
       "    <tr>\n",
       "      <th>AcceptedCmp1</th>\n",
       "      <td>2205.0</td>\n",
       "      <td>0.064399</td>\n",
       "      <td>0.245518</td>\n",
       "      <td>0.0</td>\n",
       "      <td>0.0</td>\n",
       "      <td>0.0</td>\n",
       "      <td>0.0</td>\n",
       "      <td>1.0</td>\n",
       "    </tr>\n",
       "    <tr>\n",
       "      <th>AcceptedCmp2</th>\n",
       "      <td>2205.0</td>\n",
       "      <td>0.013605</td>\n",
       "      <td>0.115872</td>\n",
       "      <td>0.0</td>\n",
       "      <td>0.0</td>\n",
       "      <td>0.0</td>\n",
       "      <td>0.0</td>\n",
       "      <td>1.0</td>\n",
       "    </tr>\n",
       "    <tr>\n",
       "      <th>Complain</th>\n",
       "      <td>2205.0</td>\n",
       "      <td>0.009070</td>\n",
       "      <td>0.094827</td>\n",
       "      <td>0.0</td>\n",
       "      <td>0.0</td>\n",
       "      <td>0.0</td>\n",
       "      <td>0.0</td>\n",
       "      <td>1.0</td>\n",
       "    </tr>\n",
       "    <tr>\n",
       "      <th>Response</th>\n",
       "      <td>2205.0</td>\n",
       "      <td>0.151020</td>\n",
       "      <td>0.358150</td>\n",
       "      <td>0.0</td>\n",
       "      <td>0.0</td>\n",
       "      <td>0.0</td>\n",
       "      <td>0.0</td>\n",
       "      <td>1.0</td>\n",
       "    </tr>\n",
       "    <tr>\n",
       "      <th>Age</th>\n",
       "      <td>2205.0</td>\n",
       "      <td>51.095692</td>\n",
       "      <td>11.705801</td>\n",
       "      <td>24.0</td>\n",
       "      <td>43.0</td>\n",
       "      <td>50.0</td>\n",
       "      <td>61.0</td>\n",
       "      <td>80.0</td>\n",
       "    </tr>\n",
       "    <tr>\n",
       "      <th>Customer_Asso_Years</th>\n",
       "      <td>2205.0</td>\n",
       "      <td>6.409524</td>\n",
       "      <td>0.558388</td>\n",
       "      <td>5.0</td>\n",
       "      <td>6.0</td>\n",
       "      <td>6.0</td>\n",
       "      <td>7.0</td>\n",
       "      <td>7.0</td>\n",
       "    </tr>\n",
       "    <tr>\n",
       "      <th>MntTotal</th>\n",
       "      <td>2205.0</td>\n",
       "      <td>606.821769</td>\n",
       "      <td>601.675284</td>\n",
       "      <td>5.0</td>\n",
       "      <td>69.0</td>\n",
       "      <td>397.0</td>\n",
       "      <td>1047.0</td>\n",
       "      <td>2525.0</td>\n",
       "    </tr>\n",
       "    <tr>\n",
       "      <th>MntRegularProds</th>\n",
       "      <td>2205.0</td>\n",
       "      <td>562.764626</td>\n",
       "      <td>575.936911</td>\n",
       "      <td>4.0</td>\n",
       "      <td>56.0</td>\n",
       "      <td>343.0</td>\n",
       "      <td>964.0</td>\n",
       "      <td>2491.0</td>\n",
       "    </tr>\n",
       "    <tr>\n",
       "      <th>AcceptedCmpOverall</th>\n",
       "      <td>2205.0</td>\n",
       "      <td>0.450340</td>\n",
       "      <td>0.894075</td>\n",
       "      <td>0.0</td>\n",
       "      <td>0.0</td>\n",
       "      <td>0.0</td>\n",
       "      <td>1.0</td>\n",
       "      <td>5.0</td>\n",
       "    </tr>\n",
       "    <tr>\n",
       "      <th>Marital</th>\n",
       "      <td>2205.0</td>\n",
       "      <td>0.644898</td>\n",
       "      <td>0.478653</td>\n",
       "      <td>0.0</td>\n",
       "      <td>0.0</td>\n",
       "      <td>1.0</td>\n",
       "      <td>1.0</td>\n",
       "      <td>1.0</td>\n",
       "    </tr>\n",
       "    <tr>\n",
       "      <th>No_of_Children</th>\n",
       "      <td>2205.0</td>\n",
       "      <td>0.948753</td>\n",
       "      <td>0.749231</td>\n",
       "      <td>0.0</td>\n",
       "      <td>0.0</td>\n",
       "      <td>1.0</td>\n",
       "      <td>1.0</td>\n",
       "      <td>3.0</td>\n",
       "    </tr>\n",
       "    <tr>\n",
       "      <th>Total_Purchases</th>\n",
       "      <td>2205.0</td>\n",
       "      <td>14.887982</td>\n",
       "      <td>7.615277</td>\n",
       "      <td>0.0</td>\n",
       "      <td>8.0</td>\n",
       "      <td>15.0</td>\n",
       "      <td>21.0</td>\n",
       "      <td>43.0</td>\n",
       "    </tr>\n",
       "  </tbody>\n",
       "</table>\n",
       "</div>"
      ],
      "text/plain": [
       "                      count          mean           std     min      25%  \\\n",
       "Income               2205.0  51622.094785  20713.063826  1730.0  35196.0   \n",
       "Recency              2205.0     49.009070     28.932111     0.0     24.0   \n",
       "MntWines             2205.0    306.164626    337.493839     0.0     24.0   \n",
       "MntFruits            2205.0     26.403175     39.784484     0.0      2.0   \n",
       "MntMeatProducts      2205.0    165.312018    217.784507     0.0     16.0   \n",
       "MntFishProducts      2205.0     37.756463     54.824635     0.0      3.0   \n",
       "MntSweetProducts     2205.0     27.128345     41.130468     0.0      1.0   \n",
       "MntGoldProds         2205.0     44.057143     51.736211     0.0      9.0   \n",
       "NumDealsPurchases    2205.0      2.318367      1.886107     0.0      1.0   \n",
       "NumWebPurchases      2205.0      4.100680      2.737424     0.0      2.0   \n",
       "NumCatalogPurchases  2205.0      2.645351      2.798647     0.0      0.0   \n",
       "NumStorePurchases    2205.0      5.823583      3.241796     0.0      3.0   \n",
       "NumWebVisitsMonth    2205.0      5.336961      2.413535     0.0      3.0   \n",
       "AcceptedCmp3         2205.0      0.073923      0.261705     0.0      0.0   \n",
       "AcceptedCmp4         2205.0      0.074376      0.262442     0.0      0.0   \n",
       "AcceptedCmp5         2205.0      0.073016      0.260222     0.0      0.0   \n",
       "AcceptedCmp1         2205.0      0.064399      0.245518     0.0      0.0   \n",
       "AcceptedCmp2         2205.0      0.013605      0.115872     0.0      0.0   \n",
       "Complain             2205.0      0.009070      0.094827     0.0      0.0   \n",
       "Response             2205.0      0.151020      0.358150     0.0      0.0   \n",
       "Age                  2205.0     51.095692     11.705801    24.0     43.0   \n",
       "Customer_Asso_Years  2205.0      6.409524      0.558388     5.0      6.0   \n",
       "MntTotal             2205.0    606.821769    601.675284     5.0     69.0   \n",
       "MntRegularProds      2205.0    562.764626    575.936911     4.0     56.0   \n",
       "AcceptedCmpOverall   2205.0      0.450340      0.894075     0.0      0.0   \n",
       "Marital              2205.0      0.644898      0.478653     0.0      0.0   \n",
       "No_of_Children       2205.0      0.948753      0.749231     0.0      0.0   \n",
       "Total_Purchases      2205.0     14.887982      7.615277     0.0      8.0   \n",
       "\n",
       "                         50%      75%       max  \n",
       "Income               51287.0  68281.0  113734.0  \n",
       "Recency                 49.0     74.0      99.0  \n",
       "MntWines               178.0    507.0    1493.0  \n",
       "MntFruits                8.0     33.0     199.0  \n",
       "MntMeatProducts         68.0    232.0    1725.0  \n",
       "MntFishProducts         12.0     50.0     259.0  \n",
       "MntSweetProducts         8.0     34.0     262.0  \n",
       "MntGoldProds            25.0     56.0     321.0  \n",
       "NumDealsPurchases        2.0      3.0      15.0  \n",
       "NumWebPurchases          4.0      6.0      27.0  \n",
       "NumCatalogPurchases      2.0      4.0      28.0  \n",
       "NumStorePurchases        5.0      8.0      13.0  \n",
       "NumWebVisitsMonth        6.0      7.0      20.0  \n",
       "AcceptedCmp3             0.0      0.0       1.0  \n",
       "AcceptedCmp4             0.0      0.0       1.0  \n",
       "AcceptedCmp5             0.0      0.0       1.0  \n",
       "AcceptedCmp1             0.0      0.0       1.0  \n",
       "AcceptedCmp2             0.0      0.0       1.0  \n",
       "Complain                 0.0      0.0       1.0  \n",
       "Response                 0.0      0.0       1.0  \n",
       "Age                     50.0     61.0      80.0  \n",
       "Customer_Asso_Years      6.0      7.0       7.0  \n",
       "MntTotal               397.0   1047.0    2525.0  \n",
       "MntRegularProds        343.0    964.0    2491.0  \n",
       "AcceptedCmpOverall       0.0      1.0       5.0  \n",
       "Marital                  1.0      1.0       1.0  \n",
       "No_of_Children           1.0      1.0       3.0  \n",
       "Total_Purchases         15.0     21.0      43.0  "
      ]
     },
     "execution_count": 24,
     "metadata": {},
     "output_type": "execute_result"
    }
   ],
   "source": [
    "data.describe().transpose()"
   ]
  },
  {
   "cell_type": "markdown",
   "id": "f9497f34",
   "metadata": {
    "papermill": {
     "duration": 0.021638,
     "end_time": "2022-08-05T23:58:14.828272",
     "exception": false,
     "start_time": "2022-08-05T23:58:14.806634",
     "status": "completed"
    },
    "tags": []
   },
   "source": [
    "## Important insights:\n",
    "1. Income of an average customer is $51622.\n",
    "2. Age of an average customer is 51."
   ]
  },
  {
   "cell_type": "markdown",
   "id": "83286f00",
   "metadata": {
    "execution": {
     "iopub.execute_input": "2022-08-04T16:09:45.899998Z",
     "iopub.status.busy": "2022-08-04T16:09:45.898811Z",
     "iopub.status.idle": "2022-08-04T16:09:45.904532Z",
     "shell.execute_reply": "2022-08-04T16:09:45.903730Z",
     "shell.execute_reply.started": "2022-08-04T16:09:45.899950Z"
    },
    "papermill": {
     "duration": 0.021249,
     "end_time": "2022-08-05T23:58:14.871418",
     "exception": false,
     "start_time": "2022-08-05T23:58:14.850169",
     "status": "completed"
    },
    "tags": []
   },
   "source": [
    "## Data Visualization"
   ]
  },
  {
   "cell_type": "code",
   "execution_count": 25,
   "id": "2340fe2b",
   "metadata": {
    "execution": {
     "iopub.execute_input": "2022-08-05T23:58:14.916889Z",
     "iopub.status.busy": "2022-08-05T23:58:14.916482Z",
     "iopub.status.idle": "2022-08-05T23:58:14.925205Z",
     "shell.execute_reply": "2022-08-05T23:58:14.923866Z"
    },
    "papermill": {
     "duration": 0.034328,
     "end_time": "2022-08-05T23:58:14.927728",
     "exception": false,
     "start_time": "2022-08-05T23:58:14.893400",
     "status": "completed"
    },
    "tags": []
   },
   "outputs": [
    {
     "data": {
      "text/plain": [
       "Index(['Income', 'Recency', 'MntWines', 'MntFruits', 'MntMeatProducts',\n",
       "       'MntFishProducts', 'MntSweetProducts', 'MntGoldProds',\n",
       "       'NumDealsPurchases', 'NumWebPurchases', 'NumCatalogPurchases',\n",
       "       'NumStorePurchases', 'NumWebVisitsMonth', 'AcceptedCmp3',\n",
       "       'AcceptedCmp4', 'AcceptedCmp5', 'AcceptedCmp1', 'AcceptedCmp2',\n",
       "       'Complain', 'Response', 'Age', 'Customer_Asso_Years', 'MntTotal',\n",
       "       'MntRegularProds', 'AcceptedCmpOverall', 'Marital', 'Education',\n",
       "       'No_of_Children', 'Total_Purchases'],\n",
       "      dtype='object')"
      ]
     },
     "execution_count": 25,
     "metadata": {},
     "output_type": "execute_result"
    }
   ],
   "source": [
    "data.columns"
   ]
  },
  {
   "cell_type": "code",
   "execution_count": 26,
   "id": "1239d6d4",
   "metadata": {
    "execution": {
     "iopub.execute_input": "2022-08-05T23:58:14.973591Z",
     "iopub.status.busy": "2022-08-05T23:58:14.973170Z",
     "iopub.status.idle": "2022-08-05T23:58:15.221628Z",
     "shell.execute_reply": "2022-08-05T23:58:15.220216Z"
    },
    "papermill": {
     "duration": 0.274769,
     "end_time": "2022-08-05T23:58:15.224338",
     "exception": false,
     "start_time": "2022-08-05T23:58:14.949569",
     "status": "completed"
    },
    "tags": []
   },
   "outputs": [
    {
     "name": "stderr",
     "output_type": "stream",
     "text": [
      "/opt/conda/lib/python3.7/site-packages/seaborn/_decorators.py:43: FutureWarning: Pass the following variable as a keyword arg: x. From version 0.12, the only valid positional argument will be `data`, and passing other arguments without an explicit keyword will result in an error or misinterpretation.\n",
      "  FutureWarning\n"
     ]
    },
    {
     "data": {
      "text/plain": [
       "<AxesSubplot:xlabel='No_of_Children', ylabel='count'>"
      ]
     },
     "execution_count": 26,
     "metadata": {},
     "output_type": "execute_result"
    },
    {
     "data": {
      "image/png": "[encoded data removed]",
      "text/plain": [
       "<Figure size 432x288 with 1 Axes>"
      ]
     },
     "metadata": {
      "needs_background": "light"
     },
     "output_type": "display_data"
    }
   ],
   "source": [
    "sns.countplot(data['No_of_Children'])"
   ]
  },
  {
   "cell_type": "markdown",
   "id": "021088a8",
   "metadata": {
    "papermill": {
     "duration": 0.021726,
     "end_time": "2022-08-05T23:58:15.268684",
     "exception": false,
     "start_time": "2022-08-05T23:58:15.246958",
     "status": "completed"
    },
    "tags": []
   },
   "source": [
    "## Majority of the customers have 1 children or no children."
   ]
  },
  {
   "cell_type": "code",
   "execution_count": 27,
   "id": "b1d7813f",
   "metadata": {
    "execution": {
     "iopub.execute_input": "2022-08-05T23:58:15.315692Z",
     "iopub.status.busy": "2022-08-05T23:58:15.314374Z",
     "iopub.status.idle": "2022-08-05T23:58:15.460601Z",
     "shell.execute_reply": "2022-08-05T23:58:15.458345Z"
    },
    "papermill": {
     "duration": 0.17502,
     "end_time": "2022-08-05T23:58:15.465908",
     "exception": false,
     "start_time": "2022-08-05T23:58:15.290888",
     "status": "completed"
    },
    "tags": []
   },
   "outputs": [
    {
     "name": "stderr",
     "output_type": "stream",
     "text": [
      "/opt/conda/lib/python3.7/site-packages/seaborn/_decorators.py:43: FutureWarning: Pass the following variable as a keyword arg: x. From version 0.12, the only valid positional argument will be `data`, and passing other arguments without an explicit keyword will result in an error or misinterpretation.\n",
      "  FutureWarning\n"
     ]
    },
    {
     "data": {
      "text/plain": [
       "<AxesSubplot:xlabel='Customer_Asso_Years', ylabel='count'>"
      ]
     },
     "execution_count": 27,
     "metadata": {},
     "output_type": "execute_result"
    },
    {
     "data": {
      "image/png": "[encoded data removed]",
      "text/plain": [
       "<Figure size 432x288 with 1 Axes>"
      ]
     },
     "metadata": {
      "needs_background": "light"
     },
     "output_type": "display_data"
    }
   ],
   "source": [
    "sns.countplot(data['Customer_Asso_Years'])"
   ]
  },
  {
   "cell_type": "markdown",
   "id": "0d65caa1",
   "metadata": {
    "papermill": {
     "duration": 0.022513,
     "end_time": "2022-08-05T23:58:15.515862",
     "exception": false,
     "start_time": "2022-08-05T23:58:15.493349",
     "status": "completed"
    },
    "tags": []
   },
   "source": [
    "## The majority of the customers are associated with the company for 6-7 years."
   ]
  },
  {
   "cell_type": "code",
   "execution_count": 28,
   "id": "d4b0dde8",
   "metadata": {
    "execution": {
     "iopub.execute_input": "2022-08-05T23:58:15.563913Z",
     "iopub.status.busy": "2022-08-05T23:58:15.563208Z",
     "iopub.status.idle": "2022-08-05T23:58:15.765772Z",
     "shell.execute_reply": "2022-08-05T23:58:15.764059Z"
    },
    "papermill": {
     "duration": 0.231084,
     "end_time": "2022-08-05T23:58:15.769700",
     "exception": false,
     "start_time": "2022-08-05T23:58:15.538616",
     "status": "completed"
    },
    "tags": []
   },
   "outputs": [
    {
     "data": {
      "text/plain": [
       "<AxesSubplot:ylabel='AcceptedCmpOverall'>"
      ]
     },
     "execution_count": 28,
     "metadata": {},
     "output_type": "execute_result"
    },
    {
     "data": {
      "image/png": "[encoded data removed]",
      "text/plain": [
       "<Figure size 432x288 with 1 Axes>"
      ]
     },
     "metadata": {},
     "output_type": "display_data"
    }
   ],
   "source": [
    "data['AcceptedCmpOverall'].value_counts().plot(kind='pie',autopct='%.2f')"
   ]
  },
  {
   "cell_type": "markdown",
   "id": "2c823fc3",
   "metadata": {
    "papermill": {
     "duration": 0.023516,
     "end_time": "2022-08-05T23:58:15.818152",
     "exception": false,
     "start_time": "2022-08-05T23:58:15.794636",
     "status": "completed"
    },
    "tags": []
   },
   "source": [
    "### 72.61% of customers have not accepted the offer in any of the campaigns."
   ]
  },
  {
   "cell_type": "code",
   "execution_count": 29,
   "id": "34e75efe",
   "metadata": {
    "execution": {
     "iopub.execute_input": "2022-08-05T23:58:15.870793Z",
     "iopub.status.busy": "2022-08-05T23:58:15.869127Z",
     "iopub.status.idle": "2022-08-05T23:58:15.972801Z",
     "shell.execute_reply": "2022-08-05T23:58:15.970673Z"
    },
    "papermill": {
     "duration": 0.136859,
     "end_time": "2022-08-05T23:58:15.978337",
     "exception": false,
     "start_time": "2022-08-05T23:58:15.841478",
     "status": "completed"
    },
    "tags": []
   },
   "outputs": [
    {
     "data": {
      "text/plain": [
       "<AxesSubplot:ylabel='Marital'>"
      ]
     },
     "execution_count": 29,
     "metadata": {},
     "output_type": "execute_result"
    },
    {
     "data": {
      "image/png": "[encoded data removed]",
      "text/plain": [
       "<Figure size 432x288 with 1 Axes>"
      ]
     },
     "metadata": {},
     "output_type": "display_data"
    }
   ],
   "source": [
    "data['Marital'].value_counts().plot(kind='pie',autopct='%.2f')"
   ]
  },
  {
   "cell_type": "markdown",
   "id": "88472e50",
   "metadata": {
    "papermill": {
     "duration": 0.027145,
     "end_time": "2022-08-05T23:58:16.088628",
     "exception": false,
     "start_time": "2022-08-05T23:58:16.061483",
     "status": "completed"
    },
    "tags": []
   },
   "source": [
    "### Majority of the customer are Married or Together."
   ]
  },
  {
   "cell_type": "code",
   "execution_count": 30,
   "id": "13d0e8c6",
   "metadata": {
    "execution": {
     "iopub.execute_input": "2022-08-05T23:58:16.138136Z",
     "iopub.status.busy": "2022-08-05T23:58:16.137699Z",
     "iopub.status.idle": "2022-08-05T23:58:16.360751Z",
     "shell.execute_reply": "2022-08-05T23:58:16.359728Z"
    },
    "papermill": {
     "duration": 0.250987,
     "end_time": "2022-08-05T23:58:16.363627",
     "exception": false,
     "start_time": "2022-08-05T23:58:16.112640",
     "status": "completed"
    },
    "tags": []
   },
   "outputs": [
    {
     "name": "stderr",
     "output_type": "stream",
     "text": [
      "/opt/conda/lib/python3.7/site-packages/seaborn/_decorators.py:43: FutureWarning: Pass the following variable as a keyword arg: x. From version 0.12, the only valid positional argument will be `data`, and passing other arguments without an explicit keyword will result in an error or misinterpretation.\n",
      "  FutureWarning\n"
     ]
    },
    {
     "data": {
      "text/plain": [
       "<AxesSubplot:xlabel='Education', ylabel='count'>"
      ]
     },
     "execution_count": 30,
     "metadata": {},
     "output_type": "execute_result"
    },
    {
     "data": {
      "image/png": "[encoded data removed]",
      "text/plain": [
       "<Figure size 432x288 with 1 Axes>"
      ]
     },
     "metadata": {
      "needs_background": "light"
     },
     "output_type": "display_data"
    }
   ],
   "source": [
    "sns.countplot(data['Education'])"
   ]
  },
  {
   "cell_type": "code",
   "execution_count": 31,
   "id": "2c62bdcd",
   "metadata": {
    "execution": {
     "iopub.execute_input": "2022-08-05T23:58:16.416322Z",
     "iopub.status.busy": "2022-08-05T23:58:16.415370Z",
     "iopub.status.idle": "2022-08-05T23:58:16.556627Z",
     "shell.execute_reply": "2022-08-05T23:58:16.554272Z"
    },
    "papermill": {
     "duration": 0.173902,
     "end_time": "2022-08-05T23:58:16.562103",
     "exception": false,
     "start_time": "2022-08-05T23:58:16.388201",
     "status": "completed"
    },
    "tags": []
   },
   "outputs": [
    {
     "data": {
      "text/plain": [
       "<AxesSubplot:ylabel='Complain'>"
      ]
     },
     "execution_count": 31,
     "metadata": {},
     "output_type": "execute_result"
    },
    {
     "data": {
      "image/png": "[encoded data removed]",
      "text/plain": [
       "<Figure size 432x288 with 1 Axes>"
      ]
     },
     "metadata": {},
     "output_type": "display_data"
    }
   ],
   "source": [
    "data['Complain'].value_counts().plot(kind='pie',autopct='%.2f')"
   ]
  },
  {
   "cell_type": "markdown",
   "id": "2680e2e4",
   "metadata": {
    "papermill": {
     "duration": 0.024835,
     "end_time": "2022-08-05T23:58:16.658029",
     "exception": false,
     "start_time": "2022-08-05T23:58:16.633194",
     "status": "completed"
    },
    "tags": []
   },
   "source": [
    "### 99% of the customers have never complained in the last two years suggesting that they are satisfied with the products and services of the company."
   ]
  },
  {
   "cell_type": "code",
   "execution_count": 32,
   "id": "05034771",
   "metadata": {
    "execution": {
     "iopub.execute_input": "2022-08-05T23:58:16.709712Z",
     "iopub.status.busy": "2022-08-05T23:58:16.709307Z",
     "iopub.status.idle": "2022-08-05T23:58:16.964329Z",
     "shell.execute_reply": "2022-08-05T23:58:16.963260Z"
    },
    "papermill": {
     "duration": 0.28398,
     "end_time": "2022-08-05T23:58:16.967003",
     "exception": false,
     "start_time": "2022-08-05T23:58:16.683023",
     "status": "completed"
    },
    "tags": []
   },
   "outputs": [
    {
     "data": {
      "text/plain": [
       "(array([ 37., 185., 333., 398., 351., 366., 331., 173.,  28.,   3.]),\n",
       " array([  1730. ,  12930.4,  24130.8,  35331.2,  46531.6,  57732. ,\n",
       "         68932.4,  80132.8,  91333.2, 102533.6, 113734. ]),\n",
       " <BarContainer object of 10 artists>)"
      ]
     },
     "execution_count": 32,
     "metadata": {},
     "output_type": "execute_result"
    },
    {
     "data": {
      "image/png": "[encoded data removed]",
      "text/plain": [
       "<Figure size 432x288 with 1 Axes>"
      ]
     },
     "metadata": {
      "needs_background": "light"
     },
     "output_type": "display_data"
    }
   ],
   "source": [
    "# Income distribution\n",
    "\n",
    "plt.hist(data['Income'],bins=10)"
   ]
  },
  {
   "cell_type": "markdown",
   "id": "9b029598",
   "metadata": {
    "papermill": {
     "duration": 0.025881,
     "end_time": "2022-08-05T23:58:17.018651",
     "exception": false,
     "start_time": "2022-08-05T23:58:16.992770",
     "status": "completed"
    },
    "tags": []
   },
   "source": [
    "## Most Income is distributed between $0-$100000 with a few outliers"
   ]
  },
  {
   "cell_type": "code",
   "execution_count": 33,
   "id": "5d3c90f4",
   "metadata": {
    "execution": {
     "iopub.execute_input": "2022-08-05T23:58:17.072408Z",
     "iopub.status.busy": "2022-08-05T23:58:17.071736Z",
     "iopub.status.idle": "2022-08-05T23:58:17.322841Z",
     "shell.execute_reply": "2022-08-05T23:58:17.321852Z"
    },
    "papermill": {
     "duration": 0.281382,
     "end_time": "2022-08-05T23:58:17.325381",
     "exception": false,
     "start_time": "2022-08-05T23:58:17.043999",
     "status": "completed"
    },
    "tags": []
   },
   "outputs": [
    {
     "data": {
      "text/plain": [
       "(array([ 43., 176., 199., 418., 379., 304., 271., 239., 153.,  23.]),\n",
       " array([24. , 29.6, 35.2, 40.8, 46.4, 52. , 57.6, 63.2, 68.8, 74.4, 80. ]),\n",
       " <BarContainer object of 10 artists>)"
      ]
     },
     "execution_count": 33,
     "metadata": {},
     "output_type": "execute_result"
    },
    {
     "data": {
      "image/png": "[encoded data removed]",
      "text/plain": [
       "<Figure size 432x288 with 1 Axes>"
      ]
     },
     "metadata": {
      "needs_background": "light"
     },
     "output_type": "display_data"
    }
   ],
   "source": [
    "# Age distribution\n",
    "\n",
    "plt.hist(data['Age'],bins=10)"
   ]
  },
  {
   "cell_type": "markdown",
   "id": "b1224bfb",
   "metadata": {
    "execution": {
     "iopub.execute_input": "2022-08-04T20:20:17.707135Z",
     "iopub.status.busy": "2022-08-04T20:20:17.706196Z",
     "iopub.status.idle": "2022-08-04T20:20:17.712998Z",
     "shell.execute_reply": "2022-08-04T20:20:17.711356Z",
     "shell.execute_reply.started": "2022-08-04T20:20:17.707087Z"
    },
    "papermill": {
     "duration": 0.024966,
     "end_time": "2022-08-05T23:58:17.375357",
     "exception": false,
     "start_time": "2022-08-05T23:58:17.350391",
     "status": "completed"
    },
    "tags": []
   },
   "source": [
    "### Most of the customer's age is between 30-75 years"
   ]
  },
  {
   "cell_type": "markdown",
   "id": "8adefa9a",
   "metadata": {
    "execution": {
     "iopub.execute_input": "2022-08-05T16:28:54.899369Z",
     "iopub.status.busy": "2022-08-05T16:28:54.898955Z",
     "iopub.status.idle": "2022-08-05T16:28:54.905298Z",
     "shell.execute_reply": "2022-08-05T16:28:54.903791Z",
     "shell.execute_reply.started": "2022-08-05T16:28:54.899335Z"
    },
    "papermill": {
     "duration": 0.024428,
     "end_time": "2022-08-05T23:58:17.424829",
     "exception": false,
     "start_time": "2022-08-05T23:58:17.400401",
     "status": "completed"
    },
    "tags": []
   },
   "source": [
    "## Identifying features containing outliers"
   ]
  },
  {
   "cell_type": "code",
   "execution_count": 34,
   "id": "fd07810d",
   "metadata": {
    "execution": {
     "iopub.execute_input": "2022-08-05T23:58:17.477745Z",
     "iopub.status.busy": "2022-08-05T23:58:17.476966Z",
     "iopub.status.idle": "2022-08-05T23:58:17.694339Z",
     "shell.execute_reply": "2022-08-05T23:58:17.692113Z"
    },
    "papermill": {
     "duration": 0.251403,
     "end_time": "2022-08-05T23:58:17.701318",
     "exception": false,
     "start_time": "2022-08-05T23:58:17.449915",
     "status": "completed"
    },
    "tags": []
   },
   "outputs": [
    {
     "name": "stderr",
     "output_type": "stream",
     "text": [
      "/opt/conda/lib/python3.7/site-packages/seaborn/_decorators.py:43: FutureWarning: Pass the following variable as a keyword arg: x. From version 0.12, the only valid positional argument will be `data`, and passing other arguments without an explicit keyword will result in an error or misinterpretation.\n",
      "  FutureWarning\n"
     ]
    },
    {
     "data": {
      "text/plain": [
       "<AxesSubplot:xlabel='MntWines'>"
      ]
     },
     "execution_count": 34,
     "metadata": {},
     "output_type": "execute_result"
    },
    {
     "data": {
      "image/png": "[encoded data removed]",
      "text/plain": [
       "<Figure size 432x288 with 1 Axes>"
      ]
     },
     "metadata": {
      "needs_background": "light"
     },
     "output_type": "display_data"
    }
   ],
   "source": [
    "sns.boxplot(data['MntWines'])"
   ]
  },
  {
   "cell_type": "code",
   "execution_count": 35,
   "id": "61d96658",
   "metadata": {
    "execution": {
     "iopub.execute_input": "2022-08-05T23:58:17.790272Z",
     "iopub.status.busy": "2022-08-05T23:58:17.789643Z",
     "iopub.status.idle": "2022-08-05T23:58:17.993283Z",
     "shell.execute_reply": "2022-08-05T23:58:17.991374Z"
    },
    "papermill": {
     "duration": 0.252298,
     "end_time": "2022-08-05T23:58:17.996886",
     "exception": false,
     "start_time": "2022-08-05T23:58:17.744588",
     "status": "completed"
    },
    "tags": []
   },
   "outputs": [
    {
     "name": "stderr",
     "output_type": "stream",
     "text": [
      "/opt/conda/lib/python3.7/site-packages/seaborn/_decorators.py:43: FutureWarning: Pass the following variable as a keyword arg: x. From version 0.12, the only valid positional argument will be `data`, and passing other arguments without an explicit keyword will result in an error or misinterpretation.\n",
      "  FutureWarning\n"
     ]
    },
    {
     "data": {
      "text/plain": [
       "<AxesSubplot:xlabel='MntFruits'>"
      ]
     },
     "execution_count": 35,
     "metadata": {},
     "output_type": "execute_result"
    },
    {
     "data": {
      "image/png": "[encoded data removed]",
      "text/plain": [
       "<Figure size 432x288 with 1 Axes>"
      ]
     },
     "metadata": {
      "needs_background": "light"
     },
     "output_type": "display_data"
    }
   ],
   "source": [
    "sns.boxplot(data['MntFruits'])"
   ]
  },
  {
   "cell_type": "code",
   "execution_count": 36,
   "id": "65c74435",
   "metadata": {
    "execution": {
     "iopub.execute_input": "2022-08-05T23:58:18.058805Z",
     "iopub.status.busy": "2022-08-05T23:58:18.058324Z",
     "iopub.status.idle": "2022-08-05T23:58:18.298718Z",
     "shell.execute_reply": "2022-08-05T23:58:18.297306Z"
    },
    "papermill": {
     "duration": 0.276292,
     "end_time": "2022-08-05T23:58:18.301933",
     "exception": false,
     "start_time": "2022-08-05T23:58:18.025641",
     "status": "completed"
    },
    "tags": []
   },
   "outputs": [
    {
     "name": "stderr",
     "output_type": "stream",
     "text": [
      "/opt/conda/lib/python3.7/site-packages/seaborn/_decorators.py:43: FutureWarning: Pass the following variable as a keyword arg: x. From version 0.12, the only valid positional argument will be `data`, and passing other arguments without an explicit keyword will result in an error or misinterpretation.\n",
      "  FutureWarning\n"
     ]
    },
    {
     "data": {
      "text/plain": [
       "<AxesSubplot:xlabel='MntMeatProducts'>"
      ]
     },
     "execution_count": 36,
     "metadata": {},
     "output_type": "execute_result"
    },
    {
     "data": {
      "image/png": "[encoded data removed]",
      "text/plain": [
       "<Figure size 432x288 with 1 Axes>"
      ]
     },
     "metadata": {
      "needs_background": "light"
     },
     "output_type": "display_data"
    }
   ],
   "source": [
    "sns.boxplot(data['MntMeatProducts']) "
   ]
  },
  {
   "cell_type": "code",
   "execution_count": 37,
   "id": "48ba45db",
   "metadata": {
    "execution": {
     "iopub.execute_input": "2022-08-05T23:58:18.365088Z",
     "iopub.status.busy": "2022-08-05T23:58:18.364497Z",
     "iopub.status.idle": "2022-08-05T23:58:18.572791Z",
     "shell.execute_reply": "2022-08-05T23:58:18.571621Z"
    },
    "papermill": {
     "duration": 0.243616,
     "end_time": "2022-08-05T23:58:18.576107",
     "exception": false,
     "start_time": "2022-08-05T23:58:18.332491",
     "status": "completed"
    },
    "tags": []
   },
   "outputs": [
    {
     "name": "stderr",
     "output_type": "stream",
     "text": [
      "/opt/conda/lib/python3.7/site-packages/seaborn/_decorators.py:43: FutureWarning: Pass the following variable as a keyword arg: x. From version 0.12, the only valid positional argument will be `data`, and passing other arguments without an explicit keyword will result in an error or misinterpretation.\n",
      "  FutureWarning\n"
     ]
    },
    {
     "data": {
      "text/plain": [
       "<AxesSubplot:xlabel='MntFishProducts'>"
      ]
     },
     "execution_count": 37,
     "metadata": {},
     "output_type": "execute_result"
    },
    {
     "data": {
      "image/png": "[encoded data removed]",
      "text/plain": [
       "<Figure size 432x288 with 1 Axes>"
      ]
     },
     "metadata": {
      "needs_background": "light"
     },
     "output_type": "display_data"
    }
   ],
   "source": [
    "sns.boxplot(data['MntFishProducts'])"
   ]
  },
  {
   "cell_type": "code",
   "execution_count": 38,
   "id": "21a043f9",
   "metadata": {
    "execution": {
     "iopub.execute_input": "2022-08-05T23:58:18.639380Z",
     "iopub.status.busy": "2022-08-05T23:58:18.637511Z",
     "iopub.status.idle": "2022-08-05T23:58:18.806721Z",
     "shell.execute_reply": "2022-08-05T23:58:18.805150Z"
    },
    "papermill": {
     "duration": 0.200215,
     "end_time": "2022-08-05T23:58:18.809618",
     "exception": false,
     "start_time": "2022-08-05T23:58:18.609403",
     "status": "completed"
    },
    "tags": []
   },
   "outputs": [
    {
     "name": "stderr",
     "output_type": "stream",
     "text": [
      "/opt/conda/lib/python3.7/site-packages/seaborn/_decorators.py:43: FutureWarning: Pass the following variable as a keyword arg: x. From version 0.12, the only valid positional argument will be `data`, and passing other arguments without an explicit keyword will result in an error or misinterpretation.\n",
      "  FutureWarning\n"
     ]
    },
    {
     "data": {
      "text/plain": [
       "<AxesSubplot:xlabel='MntSweetProducts'>"
      ]
     },
     "execution_count": 38,
     "metadata": {},
     "output_type": "execute_result"
    },
    {
     "data": {
      "image/png": "[encoded data removed]",
      "text/plain": [
       "<Figure size 432x288 with 1 Axes>"
      ]
     },
     "metadata": {
      "needs_background": "light"
     },
     "output_type": "display_data"
    }
   ],
   "source": [
    "sns.boxplot(data['MntSweetProducts'])"
   ]
  },
  {
   "cell_type": "code",
   "execution_count": 39,
   "id": "3af48d93",
   "metadata": {
    "execution": {
     "iopub.execute_input": "2022-08-05T23:58:18.874382Z",
     "iopub.status.busy": "2022-08-05T23:58:18.871814Z",
     "iopub.status.idle": "2022-08-05T23:58:19.105936Z",
     "shell.execute_reply": "2022-08-05T23:58:19.104756Z"
    },
    "papermill": {
     "duration": 0.27233,
     "end_time": "2022-08-05T23:58:19.108783",
     "exception": false,
     "start_time": "2022-08-05T23:58:18.836453",
     "status": "completed"
    },
    "tags": []
   },
   "outputs": [
    {
     "name": "stderr",
     "output_type": "stream",
     "text": [
      "/opt/conda/lib/python3.7/site-packages/seaborn/_decorators.py:43: FutureWarning: Pass the following variable as a keyword arg: x. From version 0.12, the only valid positional argument will be `data`, and passing other arguments without an explicit keyword will result in an error or misinterpretation.\n",
      "  FutureWarning\n"
     ]
    },
    {
     "data": {
      "text/plain": [
       "<AxesSubplot:xlabel='MntGoldProds'>"
      ]
     },
     "execution_count": 39,
     "metadata": {},
     "output_type": "execute_result"
    },
    {
     "data": {
      "image/png": "[encoded data removed]",
      "text/plain": [
       "<Figure size 432x288 with 1 Axes>"
      ]
     },
     "metadata": {
      "needs_background": "light"
     },
     "output_type": "display_data"
    }
   ],
   "source": [
    "sns.boxplot(data['MntGoldProds'])"
   ]
  },
  {
   "cell_type": "code",
   "execution_count": 40,
   "id": "f6f9ba9b",
   "metadata": {
    "execution": {
     "iopub.execute_input": "2022-08-05T23:58:19.164297Z",
     "iopub.status.busy": "2022-08-05T23:58:19.163850Z",
     "iopub.status.idle": "2022-08-05T23:58:19.358667Z",
     "shell.execute_reply": "2022-08-05T23:58:19.357565Z"
    },
    "papermill": {
     "duration": 0.226147,
     "end_time": "2022-08-05T23:58:19.361702",
     "exception": false,
     "start_time": "2022-08-05T23:58:19.135555",
     "status": "completed"
    },
    "tags": []
   },
   "outputs": [
    {
     "name": "stderr",
     "output_type": "stream",
     "text": [
      "/opt/conda/lib/python3.7/site-packages/seaborn/_decorators.py:43: FutureWarning: Pass the following variable as a keyword arg: x. From version 0.12, the only valid positional argument will be `data`, and passing other arguments without an explicit keyword will result in an error or misinterpretation.\n",
      "  FutureWarning\n"
     ]
    },
    {
     "data": {
      "text/plain": [
       "<AxesSubplot:xlabel='MntRegularProds'>"
      ]
     },
     "execution_count": 40,
     "metadata": {},
     "output_type": "execute_result"
    },
    {
     "data": {
      "image/png": "[encoded data removed]",
      "text/plain": [
       "<Figure size 432x288 with 1 Axes>"
      ]
     },
     "metadata": {
      "needs_background": "light"
     },
     "output_type": "display_data"
    }
   ],
   "source": [
    "sns.boxplot(data['MntRegularProds'])"
   ]
  },
  {
   "cell_type": "code",
   "execution_count": 41,
   "id": "d6d2f381",
   "metadata": {
    "execution": {
     "iopub.execute_input": "2022-08-05T23:58:19.420504Z",
     "iopub.status.busy": "2022-08-05T23:58:19.419764Z",
     "iopub.status.idle": "2022-08-05T23:58:19.614913Z",
     "shell.execute_reply": "2022-08-05T23:58:19.613610Z"
    },
    "papermill": {
     "duration": 0.227077,
     "end_time": "2022-08-05T23:58:19.617459",
     "exception": false,
     "start_time": "2022-08-05T23:58:19.390382",
     "status": "completed"
    },
    "tags": []
   },
   "outputs": [
    {
     "name": "stderr",
     "output_type": "stream",
     "text": [
      "/opt/conda/lib/python3.7/site-packages/seaborn/_decorators.py:43: FutureWarning: Pass the following variable as a keyword arg: x. From version 0.12, the only valid positional argument will be `data`, and passing other arguments without an explicit keyword will result in an error or misinterpretation.\n",
      "  FutureWarning\n"
     ]
    },
    {
     "data": {
      "text/plain": [
       "<AxesSubplot:xlabel='MntTotal'>"
      ]
     },
     "execution_count": 41,
     "metadata": {},
     "output_type": "execute_result"
    },
    {
     "data": {
      "image/png": "[encoded data removed]",
      "text/plain": [
       "<Figure size 432x288 with 1 Axes>"
      ]
     },
     "metadata": {
      "needs_background": "light"
     },
     "output_type": "display_data"
    }
   ],
   "source": [
    "sns.boxplot(data['MntTotal'])"
   ]
  },
  {
   "cell_type": "code",
   "execution_count": 42,
   "id": "a9a4413b",
   "metadata": {
    "execution": {
     "iopub.execute_input": "2022-08-05T23:58:19.685359Z",
     "iopub.status.busy": "2022-08-05T23:58:19.684343Z",
     "iopub.status.idle": "2022-08-05T23:58:19.892457Z",
     "shell.execute_reply": "2022-08-05T23:58:19.890671Z"
    },
    "papermill": {
     "duration": 0.249677,
     "end_time": "2022-08-05T23:58:19.895506",
     "exception": false,
     "start_time": "2022-08-05T23:58:19.645829",
     "status": "completed"
    },
    "tags": []
   },
   "outputs": [
    {
     "name": "stderr",
     "output_type": "stream",
     "text": [
      "/opt/conda/lib/python3.7/site-packages/seaborn/_decorators.py:43: FutureWarning: Pass the following variable as a keyword arg: x. From version 0.12, the only valid positional argument will be `data`, and passing other arguments without an explicit keyword will result in an error or misinterpretation.\n",
      "  FutureWarning\n"
     ]
    },
    {
     "data": {
      "text/plain": [
       "<AxesSubplot:xlabel='NumDealsPurchases'>"
      ]
     },
     "execution_count": 42,
     "metadata": {},
     "output_type": "execute_result"
    },
    {
     "data": {
      "image/png": "[encoded data removed]",
      "text/plain": [
       "<Figure size 432x288 with 1 Axes>"
      ]
     },
     "metadata": {
      "needs_background": "light"
     },
     "output_type": "display_data"
    }
   ],
   "source": [
    "sns.boxplot(data['NumDealsPurchases'])"
   ]
  },
  {
   "cell_type": "code",
   "execution_count": 43,
   "id": "5a71fdd7",
   "metadata": {
    "execution": {
     "iopub.execute_input": "2022-08-05T23:58:19.953555Z",
     "iopub.status.busy": "2022-08-05T23:58:19.953133Z",
     "iopub.status.idle": "2022-08-05T23:58:20.149056Z",
     "shell.execute_reply": "2022-08-05T23:58:20.147422Z"
    },
    "papermill": {
     "duration": 0.228462,
     "end_time": "2022-08-05T23:58:20.151890",
     "exception": false,
     "start_time": "2022-08-05T23:58:19.923428",
     "status": "completed"
    },
    "tags": []
   },
   "outputs": [
    {
     "name": "stderr",
     "output_type": "stream",
     "text": [
      "/opt/conda/lib/python3.7/site-packages/seaborn/_decorators.py:43: FutureWarning: Pass the following variable as a keyword arg: x. From version 0.12, the only valid positional argument will be `data`, and passing other arguments without an explicit keyword will result in an error or misinterpretation.\n",
      "  FutureWarning\n"
     ]
    },
    {
     "data": {
      "text/plain": [
       "<AxesSubplot:xlabel='NumWebPurchases'>"
      ]
     },
     "execution_count": 43,
     "metadata": {},
     "output_type": "execute_result"
    },
    {
     "data": {
      "image/png": "[encoded data removed]",
      "text/plain": [
       "<Figure size 432x288 with 1 Axes>"
      ]
     },
     "metadata": {
      "needs_background": "light"
     },
     "output_type": "display_data"
    }
   ],
   "source": [
    "sns.boxplot(data['NumWebPurchases'])"
   ]
  },
  {
   "cell_type": "code",
   "execution_count": 44,
   "id": "2bb6e084",
   "metadata": {
    "execution": {
     "iopub.execute_input": "2022-08-05T23:58:20.212869Z",
     "iopub.status.busy": "2022-08-05T23:58:20.212066Z",
     "iopub.status.idle": "2022-08-05T23:58:20.584494Z",
     "shell.execute_reply": "2022-08-05T23:58:20.583231Z"
    },
    "papermill": {
     "duration": 0.406822,
     "end_time": "2022-08-05T23:58:20.587125",
     "exception": false,
     "start_time": "2022-08-05T23:58:20.180303",
     "status": "completed"
    },
    "tags": []
   },
   "outputs": [
    {
     "name": "stderr",
     "output_type": "stream",
     "text": [
      "/opt/conda/lib/python3.7/site-packages/seaborn/_decorators.py:43: FutureWarning: Pass the following variable as a keyword arg: x. From version 0.12, the only valid positional argument will be `data`, and passing other arguments without an explicit keyword will result in an error or misinterpretation.\n",
      "  FutureWarning\n"
     ]
    },
    {
     "data": {
      "text/plain": [
       "<AxesSubplot:xlabel='NumCatalogPurchases'>"
      ]
     },
     "execution_count": 44,
     "metadata": {},
     "output_type": "execute_result"
    },
    {
     "data": {
      "image/png": "[encoded data removed]",
      "text/plain": [
       "<Figure size 432x288 with 1 Axes>"
      ]
     },
     "metadata": {
      "needs_background": "light"
     },
     "output_type": "display_data"
    }
   ],
   "source": [
    "sns.boxplot(data['NumCatalogPurchases'])"
   ]
  },
  {
   "cell_type": "code",
   "execution_count": 45,
   "id": "9dc80aed",
   "metadata": {
    "execution": {
     "iopub.execute_input": "2022-08-05T23:58:20.646320Z",
     "iopub.status.busy": "2022-08-05T23:58:20.645637Z",
     "iopub.status.idle": "2022-08-05T23:58:20.856555Z",
     "shell.execute_reply": "2022-08-05T23:58:20.854894Z"
    },
    "papermill": {
     "duration": 0.243739,
     "end_time": "2022-08-05T23:58:20.859507",
     "exception": false,
     "start_time": "2022-08-05T23:58:20.615768",
     "status": "completed"
    },
    "tags": []
   },
   "outputs": [
    {
     "name": "stderr",
     "output_type": "stream",
     "text": [
      "/opt/conda/lib/python3.7/site-packages/seaborn/_decorators.py:43: FutureWarning: Pass the following variable as a keyword arg: x. From version 0.12, the only valid positional argument will be `data`, and passing other arguments without an explicit keyword will result in an error or misinterpretation.\n",
      "  FutureWarning\n"
     ]
    },
    {
     "data": {
      "text/plain": [
       "<AxesSubplot:xlabel='NumWebVisitsMonth'>"
      ]
     },
     "execution_count": 45,
     "metadata": {},
     "output_type": "execute_result"
    },
    {
     "data": {
      "image/png": "[encoded data removed]",
      "text/plain": [
       "<Figure size 432x288 with 1 Axes>"
      ]
     },
     "metadata": {
      "needs_background": "light"
     },
     "output_type": "display_data"
    }
   ],
   "source": [
    "sns.boxplot(data['NumWebVisitsMonth'])"
   ]
  },
  {
   "cell_type": "code",
   "execution_count": 46,
   "id": "59745644",
   "metadata": {
    "execution": {
     "iopub.execute_input": "2022-08-05T23:58:20.922672Z",
     "iopub.status.busy": "2022-08-05T23:58:20.922000Z",
     "iopub.status.idle": "2022-08-05T23:58:21.115627Z",
     "shell.execute_reply": "2022-08-05T23:58:21.114646Z"
    },
    "papermill": {
     "duration": 0.228413,
     "end_time": "2022-08-05T23:58:21.117940",
     "exception": false,
     "start_time": "2022-08-05T23:58:20.889527",
     "status": "completed"
    },
    "tags": []
   },
   "outputs": [
    {
     "name": "stderr",
     "output_type": "stream",
     "text": [
      "/opt/conda/lib/python3.7/site-packages/seaborn/_decorators.py:43: FutureWarning: Pass the following variable as a keyword arg: x. From version 0.12, the only valid positional argument will be `data`, and passing other arguments without an explicit keyword will result in an error or misinterpretation.\n",
      "  FutureWarning\n"
     ]
    },
    {
     "data": {
      "text/plain": [
       "<AxesSubplot:xlabel='Total_Purchases'>"
      ]
     },
     "execution_count": 46,
     "metadata": {},
     "output_type": "execute_result"
    },
    {
     "data": {
      "image/png": "[encoded data removed]",
      "text/plain": [
       "<Figure size 432x288 with 1 Axes>"
      ]
     },
     "metadata": {
      "needs_background": "light"
     },
     "output_type": "display_data"
    }
   ],
   "source": [
    "sns.boxplot(data['Total_Purchases'])"
   ]
  },
  {
   "cell_type": "code",
   "execution_count": 47,
   "id": "758b84c2",
   "metadata": {
    "execution": {
     "iopub.execute_input": "2022-08-05T23:58:21.179299Z",
     "iopub.status.busy": "2022-08-05T23:58:21.178371Z",
     "iopub.status.idle": "2022-08-05T23:58:21.187318Z",
     "shell.execute_reply": "2022-08-05T23:58:21.185898Z"
    },
    "papermill": {
     "duration": 0.043146,
     "end_time": "2022-08-05T23:58:21.190200",
     "exception": false,
     "start_time": "2022-08-05T23:58:21.147054",
     "status": "completed"
    },
    "tags": []
   },
   "outputs": [
    {
     "data": {
      "text/plain": [
       "Index(['Income', 'Recency', 'MntWines', 'MntFruits', 'MntMeatProducts',\n",
       "       'MntFishProducts', 'MntSweetProducts', 'MntGoldProds',\n",
       "       'NumDealsPurchases', 'NumWebPurchases', 'NumCatalogPurchases',\n",
       "       'NumStorePurchases', 'NumWebVisitsMonth', 'AcceptedCmp3',\n",
       "       'AcceptedCmp4', 'AcceptedCmp5', 'AcceptedCmp1', 'AcceptedCmp2',\n",
       "       'Complain', 'Response', 'Age', 'Customer_Asso_Years', 'MntTotal',\n",
       "       'MntRegularProds', 'AcceptedCmpOverall', 'Marital', 'Education',\n",
       "       'No_of_Children', 'Total_Purchases'],\n",
       "      dtype='object')"
      ]
     },
     "execution_count": 47,
     "metadata": {},
     "output_type": "execute_result"
    }
   ],
   "source": [
    "data.columns"
   ]
  },
  {
   "cell_type": "code",
   "execution_count": 48,
   "id": "71f62ee1",
   "metadata": {
    "execution": {
     "iopub.execute_input": "2022-08-05T23:58:21.252023Z",
     "iopub.status.busy": "2022-08-05T23:58:21.251537Z",
     "iopub.status.idle": "2022-08-05T23:58:21.510331Z",
     "shell.execute_reply": "2022-08-05T23:58:21.508778Z"
    },
    "papermill": {
     "duration": 0.293293,
     "end_time": "2022-08-05T23:58:21.513467",
     "exception": false,
     "start_time": "2022-08-05T23:58:21.220174",
     "status": "completed"
    },
    "tags": []
   },
   "outputs": [
    {
     "name": "stderr",
     "output_type": "stream",
     "text": [
      "/opt/conda/lib/python3.7/site-packages/seaborn/_decorators.py:43: FutureWarning: Pass the following variables as keyword args: x, y. From version 0.12, the only valid positional argument will be `data`, and passing other arguments without an explicit keyword will result in an error or misinterpretation.\n",
      "  FutureWarning\n"
     ]
    },
    {
     "data": {
      "text/plain": [
       "<AxesSubplot:xlabel='Income', ylabel='MntTotal'>"
      ]
     },
     "execution_count": 48,
     "metadata": {},
     "output_type": "execute_result"
    },
    {
     "data": {
      "image/png": "[encoded data removed]",
      "text/plain": [
       "<Figure size 432x288 with 1 Axes>"
      ]
     },
     "metadata": {
      "needs_background": "light"
     },
     "output_type": "display_data"
    }
   ],
   "source": [
    "sns.scatterplot(data['Income'],data['MntTotal'])"
   ]
  },
  {
   "cell_type": "code",
   "execution_count": 49,
   "id": "71ff0877",
   "metadata": {
    "execution": {
     "iopub.execute_input": "2022-08-05T23:58:21.580001Z",
     "iopub.status.busy": "2022-08-05T23:58:21.579486Z",
     "iopub.status.idle": "2022-08-05T23:58:21.845779Z",
     "shell.execute_reply": "2022-08-05T23:58:21.844342Z"
    },
    "papermill": {
     "duration": 0.304008,
     "end_time": "2022-08-05T23:58:21.848603",
     "exception": false,
     "start_time": "2022-08-05T23:58:21.544595",
     "status": "completed"
    },
    "tags": []
   },
   "outputs": [
    {
     "name": "stderr",
     "output_type": "stream",
     "text": [
      "/opt/conda/lib/python3.7/site-packages/seaborn/_decorators.py:43: FutureWarning: Pass the following variables as keyword args: x, y. From version 0.12, the only valid positional argument will be `data`, and passing other arguments without an explicit keyword will result in an error or misinterpretation.\n",
      "  FutureWarning\n"
     ]
    },
    {
     "data": {
      "text/plain": [
       "<AxesSubplot:xlabel='No_of_Children', ylabel='MntTotal'>"
      ]
     },
     "execution_count": 49,
     "metadata": {},
     "output_type": "execute_result"
    },
    {
     "data": {
      "image/png": "[encoded data removed]",
      "text/plain": [
       "<Figure size 432x288 with 1 Axes>"
      ]
     },
     "metadata": {
      "needs_background": "light"
     },
     "output_type": "display_data"
    }
   ],
   "source": [
    "sns.boxplot(data['No_of_Children'],data['MntTotal'])"
   ]
  },
  {
   "cell_type": "markdown",
   "id": "8f9e540c",
   "metadata": {
    "papermill": {
     "duration": 0.031432,
     "end_time": "2022-08-05T23:58:21.911143",
     "exception": false,
     "start_time": "2022-08-05T23:58:21.879711",
     "status": "completed"
    },
    "tags": []
   },
   "source": [
    "### Customers having children spend less as compared to customers having no children. As the number of children increases, the average spending of the customers decreases."
   ]
  },
  {
   "cell_type": "code",
   "execution_count": 50,
   "id": "d8418e97",
   "metadata": {
    "execution": {
     "iopub.execute_input": "2022-08-05T23:58:21.975665Z",
     "iopub.status.busy": "2022-08-05T23:58:21.975278Z",
     "iopub.status.idle": "2022-08-05T23:58:22.339528Z",
     "shell.execute_reply": "2022-08-05T23:58:22.338564Z"
    },
    "papermill": {
     "duration": 0.399726,
     "end_time": "2022-08-05T23:58:22.342194",
     "exception": false,
     "start_time": "2022-08-05T23:58:21.942468",
     "status": "completed"
    },
    "tags": []
   },
   "outputs": [
    {
     "name": "stderr",
     "output_type": "stream",
     "text": [
      "/opt/conda/lib/python3.7/site-packages/seaborn/_decorators.py:43: FutureWarning: Pass the following variables as keyword args: x, y. From version 0.12, the only valid positional argument will be `data`, and passing other arguments without an explicit keyword will result in an error or misinterpretation.\n",
      "  FutureWarning\n"
     ]
    },
    {
     "data": {
      "text/plain": [
       "<AxesSubplot:xlabel='No_of_Children', ylabel='NumDealsPurchases'>"
      ]
     },
     "execution_count": 50,
     "metadata": {},
     "output_type": "execute_result"
    },
    {
     "data": {
      "image/png": "[encoded data removed]",
      "text/plain": [
       "<Figure size 432x288 with 1 Axes>"
      ]
     },
     "metadata": {
      "needs_background": "light"
     },
     "output_type": "display_data"
    }
   ],
   "source": [
    "sns.barplot(data['No_of_Children'],data['NumDealsPurchases'])"
   ]
  },
  {
   "cell_type": "markdown",
   "id": "2c29b0ef",
   "metadata": {
    "papermill": {
     "duration": 0.031944,
     "end_time": "2022-08-05T23:58:22.406116",
     "exception": false,
     "start_time": "2022-08-05T23:58:22.374172",
     "status": "completed"
    },
    "tags": []
   },
   "source": [
    "### Customers having children are more attracted to deals and wait for the discounts."
   ]
  },
  {
   "cell_type": "code",
   "execution_count": 51,
   "id": "e4f76ca8",
   "metadata": {
    "execution": {
     "iopub.execute_input": "2022-08-05T23:58:22.472937Z",
     "iopub.status.busy": "2022-08-05T23:58:22.471692Z",
     "iopub.status.idle": "2022-08-05T23:58:22.840881Z",
     "shell.execute_reply": "2022-08-05T23:58:22.839575Z"
    },
    "papermill": {
     "duration": 0.405887,
     "end_time": "2022-08-05T23:58:22.843902",
     "exception": false,
     "start_time": "2022-08-05T23:58:22.438015",
     "status": "completed"
    },
    "tags": []
   },
   "outputs": [
    {
     "name": "stderr",
     "output_type": "stream",
     "text": [
      "/opt/conda/lib/python3.7/site-packages/seaborn/_decorators.py:43: FutureWarning: Pass the following variables as keyword args: x, y. From version 0.12, the only valid positional argument will be `data`, and passing other arguments without an explicit keyword will result in an error or misinterpretation.\n",
      "  FutureWarning\n"
     ]
    },
    {
     "data": {
      "text/plain": [
       "<AxesSubplot:xlabel='No_of_Children', ylabel='NumWebPurchases'>"
      ]
     },
     "execution_count": 51,
     "metadata": {},
     "output_type": "execute_result"
    },
    {
     "data": {
      "image/png": "[encoded data removed]",
      "text/plain": [
       "<Figure size 432x288 with 1 Axes>"
      ]
     },
     "metadata": {
      "needs_background": "light"
     },
     "output_type": "display_data"
    }
   ],
   "source": [
    "sns.barplot(data['No_of_Children'],data['NumWebPurchases'])"
   ]
  },
  {
   "cell_type": "markdown",
   "id": "04ec24e4",
   "metadata": {
    "papermill": {
     "duration": 0.031937,
     "end_time": "2022-08-05T23:58:22.907956",
     "exception": false,
     "start_time": "2022-08-05T23:58:22.876019",
     "status": "completed"
    },
    "tags": []
   },
   "source": [
    "### Online Purchase is popular among all the customers."
   ]
  },
  {
   "cell_type": "code",
   "execution_count": 52,
   "id": "fe9a6065",
   "metadata": {
    "execution": {
     "iopub.execute_input": "2022-08-05T23:58:22.974031Z",
     "iopub.status.busy": "2022-08-05T23:58:22.973305Z",
     "iopub.status.idle": "2022-08-05T23:58:23.348262Z",
     "shell.execute_reply": "2022-08-05T23:58:23.347207Z"
    },
    "papermill": {
     "duration": 0.410463,
     "end_time": "2022-08-05T23:58:23.350625",
     "exception": false,
     "start_time": "2022-08-05T23:58:22.940162",
     "status": "completed"
    },
    "tags": []
   },
   "outputs": [
    {
     "name": "stderr",
     "output_type": "stream",
     "text": [
      "/opt/conda/lib/python3.7/site-packages/seaborn/_decorators.py:43: FutureWarning: Pass the following variables as keyword args: x, y. From version 0.12, the only valid positional argument will be `data`, and passing other arguments without an explicit keyword will result in an error or misinterpretation.\n",
      "  FutureWarning\n"
     ]
    },
    {
     "data": {
      "text/plain": [
       "<AxesSubplot:xlabel='No_of_Children', ylabel='NumWebVisitsMonth'>"
      ]
     },
     "execution_count": 52,
     "metadata": {},
     "output_type": "execute_result"
    },
    {
     "data": {
      "image/png": "[encoded data removed]",
      "text/plain": [
       "<Figure size 432x288 with 1 Axes>"
      ]
     },
     "metadata": {
      "needs_background": "light"
     },
     "output_type": "display_data"
    }
   ],
   "source": [
    "sns.barplot(data['No_of_Children'],data['NumWebVisitsMonth'])"
   ]
  },
  {
   "cell_type": "markdown",
   "id": "86fce597",
   "metadata": {
    "papermill": {
     "duration": 0.032344,
     "end_time": "2022-08-05T23:58:23.414945",
     "exception": false,
     "start_time": "2022-08-05T23:58:23.382601",
     "status": "completed"
    },
    "tags": []
   },
   "source": [
    "### Number of web visits per month is high among the customers having 1 or more children."
   ]
  },
  {
   "cell_type": "code",
   "execution_count": 53,
   "id": "f3295f1c",
   "metadata": {
    "execution": {
     "iopub.execute_input": "2022-08-05T23:58:23.481861Z",
     "iopub.status.busy": "2022-08-05T23:58:23.481172Z",
     "iopub.status.idle": "2022-08-05T23:58:23.498461Z",
     "shell.execute_reply": "2022-08-05T23:58:23.497150Z"
    },
    "papermill": {
     "duration": 0.053841,
     "end_time": "2022-08-05T23:58:23.501256",
     "exception": false,
     "start_time": "2022-08-05T23:58:23.447415",
     "status": "completed"
    },
    "tags": []
   },
   "outputs": [
    {
     "data": {
      "text/html": [
       "<div>\n",
       "<style scoped>\n",
       "    .dataframe tbody tr th:only-of-type {\n",
       "        vertical-align: middle;\n",
       "    }\n",
       "\n",
       "    .dataframe tbody tr th {\n",
       "        vertical-align: top;\n",
       "    }\n",
       "\n",
       "    .dataframe thead th {\n",
       "        text-align: right;\n",
       "    }\n",
       "</style>\n",
       "<table border=\"1\" class=\"dataframe\">\n",
       "  <thead>\n",
       "    <tr style=\"text-align: right;\">\n",
       "      <th></th>\n",
       "      <th>index</th>\n",
       "      <th>Average</th>\n",
       "    </tr>\n",
       "  </thead>\n",
       "  <tbody>\n",
       "    <tr>\n",
       "      <th>0</th>\n",
       "      <td>MntFruits</td>\n",
       "      <td>26.4</td>\n",
       "    </tr>\n",
       "    <tr>\n",
       "      <th>1</th>\n",
       "      <td>MntSweetProducts</td>\n",
       "      <td>27.1</td>\n",
       "    </tr>\n",
       "    <tr>\n",
       "      <th>2</th>\n",
       "      <td>MntFishProducts</td>\n",
       "      <td>37.8</td>\n",
       "    </tr>\n",
       "    <tr>\n",
       "      <th>3</th>\n",
       "      <td>MntGoldProds</td>\n",
       "      <td>44.1</td>\n",
       "    </tr>\n",
       "    <tr>\n",
       "      <th>4</th>\n",
       "      <td>MntMeatProducts</td>\n",
       "      <td>165.3</td>\n",
       "    </tr>\n",
       "    <tr>\n",
       "      <th>5</th>\n",
       "      <td>MntWines</td>\n",
       "      <td>306.2</td>\n",
       "    </tr>\n",
       "    <tr>\n",
       "      <th>6</th>\n",
       "      <td>MntRegularProds</td>\n",
       "      <td>562.8</td>\n",
       "    </tr>\n",
       "    <tr>\n",
       "      <th>7</th>\n",
       "      <td>MntTotal</td>\n",
       "      <td>606.8</td>\n",
       "    </tr>\n",
       "  </tbody>\n",
       "</table>\n",
       "</div>"
      ],
      "text/plain": [
       "              index  Average\n",
       "0         MntFruits     26.4\n",
       "1  MntSweetProducts     27.1\n",
       "2   MntFishProducts     37.8\n",
       "3      MntGoldProds     44.1\n",
       "4   MntMeatProducts    165.3\n",
       "5          MntWines    306.2\n",
       "6   MntRegularProds    562.8\n",
       "7          MntTotal    606.8"
      ]
     },
     "execution_count": 53,
     "metadata": {},
     "output_type": "execute_result"
    }
   ],
   "source": [
    "# Which product is performing the best?\n",
    "mnt_cols = [col for col in data.columns if 'Mnt' in col]\n",
    "\n",
    "spending = pd.DataFrame(round(data[mnt_cols].mean(), 1), columns=['Average']).sort_values(by='Average').reset_index()\n",
    "spending"
   ]
  },
  {
   "cell_type": "code",
   "execution_count": 54,
   "id": "f91b2916",
   "metadata": {
    "execution": {
     "iopub.execute_input": "2022-08-05T23:58:23.567861Z",
     "iopub.status.busy": "2022-08-05T23:58:23.567423Z",
     "iopub.status.idle": "2022-08-05T23:58:23.831212Z",
     "shell.execute_reply": "2022-08-05T23:58:23.830076Z"
    },
    "papermill": {
     "duration": 0.300243,
     "end_time": "2022-08-05T23:58:23.833757",
     "exception": false,
     "start_time": "2022-08-05T23:58:23.533514",
     "status": "completed"
    },
    "tags": []
   },
   "outputs": [
    {
     "data": {
      "image/png": "[encoded data removed]",
      "text/plain": [
       "<Figure size 432x288 with 1 Axes>"
      ]
     },
     "metadata": {
      "needs_background": "light"
     },
     "output_type": "display_data"
    }
   ],
   "source": [
    "ax = sns.barplot(x='Average', y='index', data=spending, palette='Blues')"
   ]
  },
  {
   "cell_type": "markdown",
   "id": "a05de027",
   "metadata": {
    "papermill": {
     "duration": 0.03297,
     "end_time": "2022-08-05T23:58:23.899213",
     "exception": false,
     "start_time": "2022-08-05T23:58:23.866243",
     "status": "completed"
    },
    "tags": []
   },
   "source": [
    "### An average customer spent:\n",
    "1. 25-50 dollars on fruits,sweets,fish and gold.\n",
    "2. Over 160 dollars on meat.\n",
    "3. Over 300 dollars on wines.\n",
    "4. Over 600 dollars total."
   ]
  },
  {
   "cell_type": "markdown",
   "id": "0a3530ba",
   "metadata": {
    "papermill": {
     "duration": 0.032604,
     "end_time": "2022-08-05T23:58:23.964740",
     "exception": false,
     "start_time": "2022-08-05T23:58:23.932136",
     "status": "completed"
    },
    "tags": []
   },
   "source": [
    "## Best performing product of the company is Wine followed by Meat."
   ]
  },
  {
   "cell_type": "code",
   "execution_count": 55,
   "id": "b77d7419",
   "metadata": {
    "execution": {
     "iopub.execute_input": "2022-08-05T23:58:24.034650Z",
     "iopub.status.busy": "2022-08-05T23:58:24.033929Z",
     "iopub.status.idle": "2022-08-05T23:58:24.051643Z",
     "shell.execute_reply": "2022-08-05T23:58:24.050232Z"
    },
    "papermill": {
     "duration": 0.056639,
     "end_time": "2022-08-05T23:58:24.054522",
     "exception": false,
     "start_time": "2022-08-05T23:58:23.997883",
     "status": "completed"
    },
    "tags": []
   },
   "outputs": [
    {
     "data": {
      "text/html": [
       "<div>\n",
       "<style scoped>\n",
       "    .dataframe tbody tr th:only-of-type {\n",
       "        vertical-align: middle;\n",
       "    }\n",
       "\n",
       "    .dataframe tbody tr th {\n",
       "        vertical-align: top;\n",
       "    }\n",
       "\n",
       "    .dataframe thead th {\n",
       "        text-align: right;\n",
       "    }\n",
       "</style>\n",
       "<table border=\"1\" class=\"dataframe\">\n",
       "  <thead>\n",
       "    <tr style=\"text-align: right;\">\n",
       "      <th></th>\n",
       "      <th>index</th>\n",
       "      <th>Average</th>\n",
       "    </tr>\n",
       "  </thead>\n",
       "  <tbody>\n",
       "    <tr>\n",
       "      <th>0</th>\n",
       "      <td>AcceptedCmpOverall</td>\n",
       "      <td>0.5</td>\n",
       "    </tr>\n",
       "    <tr>\n",
       "      <th>1</th>\n",
       "      <td>NumDealsPurchases</td>\n",
       "      <td>2.3</td>\n",
       "    </tr>\n",
       "    <tr>\n",
       "      <th>2</th>\n",
       "      <td>NumCatalogPurchases</td>\n",
       "      <td>2.6</td>\n",
       "    </tr>\n",
       "    <tr>\n",
       "      <th>3</th>\n",
       "      <td>NumWebPurchases</td>\n",
       "      <td>4.1</td>\n",
       "    </tr>\n",
       "    <tr>\n",
       "      <th>4</th>\n",
       "      <td>NumWebVisitsMonth</td>\n",
       "      <td>5.3</td>\n",
       "    </tr>\n",
       "    <tr>\n",
       "      <th>5</th>\n",
       "      <td>NumStorePurchases</td>\n",
       "      <td>5.8</td>\n",
       "    </tr>\n",
       "    <tr>\n",
       "      <th>6</th>\n",
       "      <td>Total_Purchases</td>\n",
       "      <td>14.9</td>\n",
       "    </tr>\n",
       "  </tbody>\n",
       "</table>\n",
       "</div>"
      ],
      "text/plain": [
       "                 index  Average\n",
       "0   AcceptedCmpOverall      0.5\n",
       "1    NumDealsPurchases      2.3\n",
       "2  NumCatalogPurchases      2.6\n",
       "3      NumWebPurchases      4.1\n",
       "4    NumWebVisitsMonth      5.3\n",
       "5    NumStorePurchases      5.8\n",
       "6      Total_Purchases     14.9"
      ]
     },
     "execution_count": 55,
     "metadata": {},
     "output_type": "execute_result"
    }
   ],
   "source": [
    "# Let's analyse the channels and find out which channel is performing well.\n",
    "\n",
    "channel_cols = [col for col in data.columns if 'Num' in col] + ['Total_Purchases', 'AcceptedCmpOverall']\n",
    "channels = pd.DataFrame(round(data[channel_cols].mean(),1), columns = ['Average']).sort_values(by='Average').reset_index()\n",
    "channels"
   ]
  },
  {
   "cell_type": "code",
   "execution_count": 56,
   "id": "15dd4b5f",
   "metadata": {
    "execution": {
     "iopub.execute_input": "2022-08-05T23:58:24.123671Z",
     "iopub.status.busy": "2022-08-05T23:58:24.123249Z",
     "iopub.status.idle": "2022-08-05T23:58:24.395415Z",
     "shell.execute_reply": "2022-08-05T23:58:24.393906Z"
    },
    "papermill": {
     "duration": 0.310506,
     "end_time": "2022-08-05T23:58:24.398081",
     "exception": false,
     "start_time": "2022-08-05T23:58:24.087575",
     "status": "completed"
    },
    "tags": []
   },
   "outputs": [
    {
     "data": {
      "image/png": "[encoded data removed]",
      "text/plain": [
       "<Figure size 432x288 with 1 Axes>"
      ]
     },
     "metadata": {
      "needs_background": "light"
     },
     "output_type": "display_data"
    }
   ],
   "source": [
    "ax = sns.barplot(x='Average', y='index', data=channels, palette='Blues')"
   ]
  },
  {
   "cell_type": "markdown",
   "id": "316d9907",
   "metadata": {
    "execution": {
     "iopub.execute_input": "2022-08-05T23:32:05.088287Z",
     "iopub.status.busy": "2022-08-05T23:32:05.086948Z",
     "iopub.status.idle": "2022-08-05T23:32:05.094946Z",
     "shell.execute_reply": "2022-08-05T23:32:05.093768Z",
     "shell.execute_reply.started": "2022-08-05T23:32:05.088233Z"
    },
    "papermill": {
     "duration": 0.03336,
     "end_time": "2022-08-05T23:58:24.464604",
     "exception": false,
     "start_time": "2022-08-05T23:58:24.431244",
     "status": "completed"
    },
    "tags": []
   },
   "source": [
    "### An average customer-\n",
    "1. Accepted less than 1 advertising campaign.\n",
    "2. Made 2 deals purchases, 2 catalog purchases, 4 Web purchases, and 5 store purchases.\n",
    "3. 14 total purchases\n",
    "4. Visited the website 5 times."
   ]
  },
  {
   "cell_type": "markdown",
   "id": "83eb42bf",
   "metadata": {
    "papermill": {
     "duration": 0.035272,
     "end_time": "2022-08-05T23:58:24.533303",
     "exception": false,
     "start_time": "2022-08-05T23:58:24.498031",
     "status": "completed"
    },
    "tags": []
   },
   "source": [
    "## Stores are performing well. Underperforming channels are Advertising campaigns followed by deals and catalogs."
   ]
  },
  {
   "cell_type": "code",
   "execution_count": 57,
   "id": "075bfcc4",
   "metadata": {
    "execution": {
     "iopub.execute_input": "2022-08-05T23:58:24.603733Z",
     "iopub.status.busy": "2022-08-05T23:58:24.603319Z",
     "iopub.status.idle": "2022-08-05T23:58:24.612200Z",
     "shell.execute_reply": "2022-08-05T23:58:24.611231Z"
    },
    "papermill": {
     "duration": 0.047645,
     "end_time": "2022-08-05T23:58:24.614817",
     "exception": false,
     "start_time": "2022-08-05T23:58:24.567172",
     "status": "completed"
    },
    "tags": []
   },
   "outputs": [],
   "source": [
    "# calculate success rate (percent accepted)\n",
    "cam_success = pd.DataFrame(data[['AcceptedCmp1', 'AcceptedCmp2', 'AcceptedCmp3', 'AcceptedCmp4', 'AcceptedCmp5', 'Response']].mean()*100, \n",
    "                           columns=['Percent']).reset_index()"
   ]
  },
  {
   "cell_type": "code",
   "execution_count": 58,
   "id": "e171a497",
   "metadata": {
    "execution": {
     "iopub.execute_input": "2022-08-05T23:58:24.693199Z",
     "iopub.status.busy": "2022-08-05T23:58:24.692733Z",
     "iopub.status.idle": "2022-08-05T23:58:24.705186Z",
     "shell.execute_reply": "2022-08-05T23:58:24.703785Z"
    },
    "papermill": {
     "duration": 0.0592,
     "end_time": "2022-08-05T23:58:24.707795",
     "exception": false,
     "start_time": "2022-08-05T23:58:24.648595",
     "status": "completed"
    },
    "tags": []
   },
   "outputs": [
    {
     "data": {
      "text/html": [
       "<div>\n",
       "<style scoped>\n",
       "    .dataframe tbody tr th:only-of-type {\n",
       "        vertical-align: middle;\n",
       "    }\n",
       "\n",
       "    .dataframe tbody tr th {\n",
       "        vertical-align: top;\n",
       "    }\n",
       "\n",
       "    .dataframe thead th {\n",
       "        text-align: right;\n",
       "    }\n",
       "</style>\n",
       "<table border=\"1\" class=\"dataframe\">\n",
       "  <thead>\n",
       "    <tr style=\"text-align: right;\">\n",
       "      <th></th>\n",
       "      <th>index</th>\n",
       "      <th>Percent</th>\n",
       "    </tr>\n",
       "  </thead>\n",
       "  <tbody>\n",
       "    <tr>\n",
       "      <th>0</th>\n",
       "      <td>AcceptedCmp1</td>\n",
       "      <td>6.439909</td>\n",
       "    </tr>\n",
       "    <tr>\n",
       "      <th>1</th>\n",
       "      <td>AcceptedCmp2</td>\n",
       "      <td>1.360544</td>\n",
       "    </tr>\n",
       "    <tr>\n",
       "      <th>2</th>\n",
       "      <td>AcceptedCmp3</td>\n",
       "      <td>7.392290</td>\n",
       "    </tr>\n",
       "    <tr>\n",
       "      <th>3</th>\n",
       "      <td>AcceptedCmp4</td>\n",
       "      <td>7.437642</td>\n",
       "    </tr>\n",
       "    <tr>\n",
       "      <th>4</th>\n",
       "      <td>AcceptedCmp5</td>\n",
       "      <td>7.301587</td>\n",
       "    </tr>\n",
       "    <tr>\n",
       "      <th>5</th>\n",
       "      <td>Response</td>\n",
       "      <td>15.102041</td>\n",
       "    </tr>\n",
       "  </tbody>\n",
       "</table>\n",
       "</div>"
      ],
      "text/plain": [
       "          index    Percent\n",
       "0  AcceptedCmp1   6.439909\n",
       "1  AcceptedCmp2   1.360544\n",
       "2  AcceptedCmp3   7.392290\n",
       "3  AcceptedCmp4   7.437642\n",
       "4  AcceptedCmp5   7.301587\n",
       "5      Response  15.102041"
      ]
     },
     "execution_count": 58,
     "metadata": {},
     "output_type": "execute_result"
    }
   ],
   "source": [
    "cam_success"
   ]
  },
  {
   "cell_type": "code",
   "execution_count": 59,
   "id": "e670de0f",
   "metadata": {
    "execution": {
     "iopub.execute_input": "2022-08-05T23:58:24.776636Z",
     "iopub.status.busy": "2022-08-05T23:58:24.775461Z",
     "iopub.status.idle": "2022-08-05T23:58:25.032246Z",
     "shell.execute_reply": "2022-08-05T23:58:25.031191Z"
    },
    "papermill": {
     "duration": 0.293629,
     "end_time": "2022-08-05T23:58:25.034685",
     "exception": false,
     "start_time": "2022-08-05T23:58:24.741056",
     "status": "completed"
    },
    "tags": []
   },
   "outputs": [
    {
     "data": {
      "text/plain": [
       "Text(0.5, 1.0, 'Marketing campaign success rate')"
      ]
     },
     "execution_count": 59,
     "metadata": {},
     "output_type": "execute_result"
    },
    {
     "data": {
      "image/png": "[encoded data removed]",
      "text/plain": [
       "<Figure size 432x288 with 1 Axes>"
      ]
     },
     "metadata": {
      "needs_background": "light"
     },
     "output_type": "display_data"
    }
   ],
   "source": [
    "# plot\n",
    "sns.barplot(x='Percent', y='index', data=cam_success.sort_values('Percent'), palette='Blues')\n",
    "plt.xlabel('Accepted (%)')\n",
    "plt.ylabel('Campaign')\n",
    "plt.title('Marketing campaign success rate', size=16)"
   ]
  },
  {
   "cell_type": "markdown",
   "id": "de9d77cc",
   "metadata": {
    "papermill": {
     "duration": 0.033744,
     "end_time": "2022-08-05T23:58:25.101928",
     "exception": false,
     "start_time": "2022-08-05T23:58:25.068184",
     "status": "completed"
    },
    "tags": []
   },
   "source": [
    "## The last campaign is the most successful campaign and the second campaign is the least successful campaign."
   ]
  },
  {
   "cell_type": "markdown",
   "id": "bdfbc674",
   "metadata": {
    "execution": {
     "iopub.execute_input": "2022-08-05T23:35:35.283357Z",
     "iopub.status.busy": "2022-08-05T23:35:35.282977Z",
     "iopub.status.idle": "2022-08-05T23:35:35.288821Z",
     "shell.execute_reply": "2022-08-05T23:35:35.287490Z",
     "shell.execute_reply.started": "2022-08-05T23:35:35.283328Z"
    },
    "papermill": {
     "duration": 0.033593,
     "end_time": "2022-08-05T23:58:25.169105",
     "exception": false,
     "start_time": "2022-08-05T23:58:25.135512",
     "status": "completed"
    },
    "tags": []
   },
   "source": [
    "## Conclusions:"
   ]
  },
  {
   "cell_type": "markdown",
   "id": "f6dbec13",
   "metadata": {
    "papermill": {
     "duration": 0.033851,
     "end_time": "2022-08-05T23:58:25.237067",
     "exception": false,
     "start_time": "2022-08-05T23:58:25.203216",
     "status": "completed"
    },
    "tags": []
   },
   "source": [
    "* Majority of the customers are associated with the company for more than 5 years.\n",
    "* 99% of the customers have never complained in the last two years.\n",
    "* 82.61% of the customers have never accepted offers in any of the campaigns.\n",
    "* Customers having children spend less as compared to customers having no children indicating that customers having \n",
    "  children save more.\n",
    "* Customers having children wait more for the discounts to buy products.\n",
    "* Best performing product of the company is Wine followed by Meat.\n",
    "* Best performing channels: Stores\n",
    "* Worst performing channels: Advertising campaigns indicating that campaigns are not working.\n",
    "* The last campaign is the most successful campaign and the second campaign is the least successful campaign."
   ]
  }
 ],
 "metadata": {
  "kernelspec": {
   "display_name": "Python 3",
   "language": "python",
   "name": "python3"
  },
  "language_info": {
   "codemirror_mode": {
    "name": "ipython",
    "version": 3
   },
   "file_extension": ".py",
   "mimetype": "text/x-python",
   "name": "python",
   "nbconvert_exporter": "python",
   "pygments_lexer": "ipython3",
   "version": "3.7.12"
  },
  "papermill": {
   "default_parameters": {},
   "duration": 28.114611,
   "end_time": "2022-08-05T23:58:26.195397",
   "environment_variables": {},
   "exception": null,
   "input_path": "__notebook__.ipynb",
   "output_path": "__notebook__.ipynb",
   "parameters": {},
   "start_time": "2022-08-05T23:57:58.080786",
   "version": "2.3.4"
  }
 },
 "nbformat": 4,
 "nbformat_minor": 5
}
